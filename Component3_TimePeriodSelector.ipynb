{
 "cells": [
  {
   "cell_type": "code",
   "execution_count": 1,
   "metadata": {
    "collapsed": true
   },
   "outputs": [],
   "source": [
    "import pandas as pd\n",
    "import bqplot\n",
    "import us\n",
    "import numpy as np\n",
    "\n",
    "names = [\"date\", \"city\", \"state\", \"country\", \"shape\", \"duration_seconds\",\n",
    "         \"duration_reported\", \"description\", \"report_date\", \"latitude\",\n",
    "         \"longitude\"]\n",
    "fn = \"/srv/nbgrader/data/ufo-scrubbed-geocoded-time-standardized.csv\"\n",
    "ufo = pd.read_csv(fn, names = names, parse_dates = [\"date\", \"report_date\"])"
   ]
  },
  {
   "cell_type": "code",
   "execution_count": 6,
   "metadata": {
    "collapsed": true
   },
   "outputs": [],
   "source": [
    "from ipywidgets import HBox, VBox, Dropdown"
   ]
  },
  {
   "cell_type": "code",
   "execution_count": 2,
   "metadata": {
    "collapsed": true
   },
   "outputs": [],
   "source": [
    "# Get unique years\n",
    "ufo['date']\n",
    "year_data = [i.year for i in ufo['date']]\n",
    "ufo['year'] = year_data\n",
    "unique_year2 = ufo['year'].unique()\n",
    "unique_year = unique_year2.tolist()\n",
    "unique_year.insert(0,'---Year---')"
   ]
  },
  {
   "cell_type": "code",
   "execution_count": 3,
   "metadata": {
    "collapsed": true
   },
   "outputs": [],
   "source": [
    "# Group data by year\n",
    "month_data = [i.month for i in ufo['date']]\n",
    "ufo['month'] = month_data\n",
    "ufo_by_year = ufo.groupby('year')\n",
    "day_data = [i.day for i in ufo['date']]\n",
    "ufo['day'] = day_data"
   ]
  },
  {
   "cell_type": "code",
   "execution_count": 4,
   "metadata": {
    "collapsed": true
   },
   "outputs": [],
   "source": [
    "date_dict = {}\n",
    "for year in unique_year2:\n",
    "    if year not in date_dict.keys():\n",
    "        date_dict[year] = {}\n",
    "        \n",
    "    year_group = ufo_by_year.get_group(year)\n",
    "    ufo_by_year_month = year_group.groupby('month')\n",
    "    m = year_group['month'].unique()\n",
    "    for month in m:   \n",
    "        month_group = ufo_by_year_month.get_group(month)\n",
    "        d= month_group['day'].unique()\n",
    "        date_dict[year][month] = d.tolist()"
   ]
  },
  {
   "cell_type": "code",
   "execution_count": 17,
   "metadata": {},
   "outputs": [],
   "source": [
    "#Create start date selector\n",
    "start_year_select = Dropdown(options=unique_year,value='---Year---',description='Start Date:')\n",
    "start_month_select = Dropdown(options=['---Month---'])\n",
    "start_day_select = Dropdown(options=['---Day---'])\n",
    "\n",
    "def onYearSelected(change):\n",
    "    y = change['new']\n",
    "    print(y)\n",
    "    currentMonths = sorted(date_dict[y].keys())\n",
    "    currentMonths.insert(0,'---Month---')  \n",
    "    start_month_select.options = currentMonths\n",
    "    start_month_select.value = '---Month---'\n",
    "start_year_select.observe(onYearSelected, names='value')\n",
    "def onMonthSelected(change):\n",
    "    m = change['new']\n",
    "    print(m)\n",
    "    currentDays = sorted(date_dict[start_year_select.value][m])\n",
    "    currentDays.insert(0,'---Day---')\n",
    "    start_day_select.options = currentDays\n",
    "start_month_select.observe(onMonthSelected, 'value')\n",
    "def onDaySelected(change):\n",
    "    print(change['new'])\n",
    "start_day_select.observe(onDaySelected, 'value')"
   ]
  },
  {
   "cell_type": "code",
   "execution_count": 18,
   "metadata": {
    "collapsed": true
   },
   "outputs": [],
   "source": [
    "#Create end date selector\n",
    "end_year_select = Dropdown(options=unique_year,value='---Year---',description='End Date:')\n",
    "end_month_select = Dropdown(options=['---Month---'])\n",
    "end_day_select = Dropdown(options=['---Day---'])\n",
    "\n",
    "def onYearSelected_end(change):\n",
    "    y = change['new']\n",
    "    print(y)\n",
    "    currentMonths = sorted(date_dict[y].keys())\n",
    "    currentMonths.insert(0,'---Month---')  \n",
    "    end_month_select.options = currentMonths\n",
    "end_year_select.observe(onYearSelected_end, names='value')\n",
    "def onMonthSelected_end(change):\n",
    "    m = change['new']\n",
    "    print(m)\n",
    "    currentDays = sorted(date_dict[end_year_select.value][m])\n",
    "    currentDays.insert(0,'---Day---')\n",
    "    end_day_select.options = currentDays\n",
    "end_month_select.observe(onMonthSelected_end, 'value')\n",
    "def onDaySelected_end(change):\n",
    "    print(change['new'])\n",
    "end_day_select.observe(onDaySelected_end, 'value')"
   ]
  },
  {
   "cell_type": "code",
   "execution_count": 19,
   "metadata": {},
   "outputs": [
    {
     "data": {
      "application/vnd.jupyter.widget-view+json": {
       "model_id": "5c79960100d34e6eab06447ee4d2aae2",
       "version_major": 2,
       "version_minor": 0
      },
      "text/html": [
       "<p>Failed to display Jupyter Widget of type <code>VBox</code>.</p>\n",
       "<p>\n",
       "  If you're reading this message in the Jupyter Notebook or JupyterLab Notebook, it may mean\n",
       "  that the widgets JavaScript is still loading. If this message persists, it\n",
       "  likely means that the widgets JavaScript library is either not installed or\n",
       "  not enabled. See the <a href=\"https://ipywidgets.readthedocs.io/en/stable/user_install.html\">Jupyter\n",
       "  Widgets Documentation</a> for setup instructions.\n",
       "</p>\n",
       "<p>\n",
       "  If you're reading this message in another frontend (for example, a static\n",
       "  rendering on GitHub or <a href=\"https://nbviewer.jupyter.org/\">NBViewer</a>),\n",
       "  it may mean that your frontend doesn't currently support widgets.\n",
       "</p>\n"
      ],
      "text/plain": [
       "VBox(children=(HBox(children=(Dropdown(description='Start Date:', options=('---Year---', 1949, 1955, 1956, 1960, 1961, 1965, 1966, 1968, 1970, 1971, 1972, 1973, 1974, 1975, 1976, 1977, 1978, 1979, 1980, 1982, 1984, 1985, 1986, 1988, 1989, 1990, 1991, 1992, 1993, 1994, 1995, 1996, 1997, 1998, 1999, 2000, 2001, 2002, 2003, 2004, 2005, 2006, 2007, 2008, 2009, 2010, 2011, 2012, 2013, 1987, 1950, 1952, 1954, 1957, 1959, 1967, 1969, 1981, 1983, 1936, 1943, 1953, 1962, 1964, 1958, 1963, 1947, 2014, 1906, 1951, 1910, 1944, 1948, 1945, 1946, 1925, 1931, 1933, 1916, 1920, 1930, 1939, 1941, 1942, 1937, 1929, 1934), value='---Year---'), Dropdown(options=('---Month---',), value='---Month---'), Dropdown(options=('---Day---',), value='---Day---'))), HBox(children=(Dropdown(description='End Date:', options=('---Year---', 1949, 1955, 1956, 1960, 1961, 1965, 1966, 1968, 1970, 1971, 1972, 1973, 1974, 1975, 1976, 1977, 1978, 1979, 1980, 1982, 1984, 1985, 1986, 1988, 1989, 1990, 1991, 1992, 1993, 1994, 1995, 1996, 1997, 1998, 1999, 2000, 2001, 2002, 2003, 2004, 2005, 2006, 2007, 2008, 2009, 2010, 2011, 2012, 2013, 1987, 1950, 1952, 1954, 1957, 1959, 1967, 1969, 1981, 1983, 1936, 1943, 1953, 1962, 1964, 1958, 1963, 1947, 2014, 1906, 1951, 1910, 1944, 1948, 1945, 1946, 1925, 1931, 1933, 1916, 1920, 1930, 1939, 1941, 1942, 1937, 1929, 1934), value='---Year---'), Dropdown(options=('---Month---',), value='---Month---'), Dropdown(options=('---Day---',), value='---Day---')))))"
      ]
     },
     "metadata": {},
     "output_type": "display_data"
    },
    {
     "name": "stdout",
     "output_type": "stream",
     "text": [
      "1955\n",
      "6\n",
      "15\n",
      "1970\n",
      "6\n",
      "15\n"
     ]
    }
   ],
   "source": [
    "VBox([HBox([start_year_select,start_month_select,start_day_select]),HBox([end_year_select,end_month_select,end_day_select])])"
   ]
  },
  {
   "cell_type": "code",
   "execution_count": null,
   "metadata": {
    "collapsed": true
   },
   "outputs": [],
   "source": []
  }
 ],
 "metadata": {
  "kernelspec": {
   "display_name": "Python 3",
   "language": "python",
   "name": "python3"
  },
  "language_info": {
   "codemirror_mode": {
    "name": "ipython",
    "version": 3
   },
   "file_extension": ".py",
   "mimetype": "text/x-python",
   "name": "python",
   "nbconvert_exporter": "python",
   "pygments_lexer": "ipython3",
   "version": "3.6.3"
  }
 },
 "nbformat": 4,
 "nbformat_minor": 2
}
