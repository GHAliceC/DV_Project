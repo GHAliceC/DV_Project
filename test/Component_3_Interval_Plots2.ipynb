{
 "cells": [
  {
   "cell_type": "code",
   "execution_count": 1,
   "metadata": {
    "collapsed": true
   },
   "outputs": [],
   "source": [
    "import pandas as pd\n",
    "import numpy as np\n",
    "import bqplot\n",
    "import yt\n",
    "\n",
    "Symbol_T = 'Year'\n",
    "Symbol_S = 'Total Sightings'\n",
    "Symbol_D = 'Total Duration'"
   ]
  },
  {
   "cell_type": "code",
   "execution_count": 2,
   "metadata": {
    "collapsed": true
   },
   "outputs": [],
   "source": [
    "from bqplot import DateScale, LinearScale, Axis, Lines, Scatter, Bars, Hist, Figure\n",
    "from bqplot.interacts import (\n",
    "    FastIntervalSelector, IndexSelector, BrushIntervalSelector,\n",
    "    BrushSelector, MultiSelector, LassoSelector, PanZoom, HandDraw\n",
    ")\n",
    "from traitlets import link\n",
    "\n",
    "from ipywidgets import ToggleButtons, VBox, HTML, Dropdown, HBox"
   ]
  },
  {
   "cell_type": "code",
   "execution_count": 3,
   "metadata": {
    "collapsed": true
   },
   "outputs": [],
   "source": [
    "names = [\"date\", \"city\", \"state\", \"country\", \"shape\", \"duration_seconds\",\n",
    "         \"duration_reported\", \"description\", \"report_date\", \"latitude\",\n",
    "         \"longitude\"]\n",
    "fn = \"/srv/nbgrader/data/ufo-scrubbed-geocoded-time-standardized.csv\"\n",
    "ufo = pd.read_csv(fn, names = names, parse_dates = [\"date\", \"report_date\"])"
   ]
  },
  {
   "cell_type": "code",
   "execution_count": 4,
   "metadata": {},
   "outputs": [
    {
     "data": {
      "text/html": [
       "<div>\n",
       "<style scoped>\n",
       "    .dataframe tbody tr th:only-of-type {\n",
       "        vertical-align: middle;\n",
       "    }\n",
       "\n",
       "    .dataframe tbody tr th {\n",
       "        vertical-align: top;\n",
       "    }\n",
       "\n",
       "    .dataframe thead th {\n",
       "        text-align: right;\n",
       "    }\n",
       "</style>\n",
       "<table border=\"1\" class=\"dataframe\">\n",
       "  <thead>\n",
       "    <tr style=\"text-align: right;\">\n",
       "      <th></th>\n",
       "      <th>date</th>\n",
       "      <th>city</th>\n",
       "      <th>state</th>\n",
       "      <th>country</th>\n",
       "      <th>shape</th>\n",
       "      <th>duration_seconds</th>\n",
       "      <th>duration_reported</th>\n",
       "      <th>description</th>\n",
       "      <th>report_date</th>\n",
       "      <th>latitude</th>\n",
       "      <th>longitude</th>\n",
       "    </tr>\n",
       "  </thead>\n",
       "  <tbody>\n",
       "    <tr>\n",
       "      <th>0</th>\n",
       "      <td>1949-10-10 20:30:00</td>\n",
       "      <td>san marcos</td>\n",
       "      <td>tx</td>\n",
       "      <td>us</td>\n",
       "      <td>cylinder</td>\n",
       "      <td>2700.0</td>\n",
       "      <td>45 minutes</td>\n",
       "      <td>This event took place in early fall around 194...</td>\n",
       "      <td>2004-04-27</td>\n",
       "      <td>29.883056</td>\n",
       "      <td>-97.941111</td>\n",
       "    </tr>\n",
       "    <tr>\n",
       "      <th>1</th>\n",
       "      <td>1949-10-10 21:00:00</td>\n",
       "      <td>lackland afb</td>\n",
       "      <td>tx</td>\n",
       "      <td>NaN</td>\n",
       "      <td>light</td>\n",
       "      <td>7200.0</td>\n",
       "      <td>1-2 hrs</td>\n",
       "      <td>1949 Lackland AFB&amp;#44 TX.  Lights racing acros...</td>\n",
       "      <td>2005-12-16</td>\n",
       "      <td>29.384210</td>\n",
       "      <td>-98.581082</td>\n",
       "    </tr>\n",
       "    <tr>\n",
       "      <th>2</th>\n",
       "      <td>1955-10-10 17:00:00</td>\n",
       "      <td>chester (uk/england)</td>\n",
       "      <td>NaN</td>\n",
       "      <td>gb</td>\n",
       "      <td>circle</td>\n",
       "      <td>20.0</td>\n",
       "      <td>20 seconds</td>\n",
       "      <td>Green/Orange circular disc over Chester&amp;#44 En...</td>\n",
       "      <td>2008-01-21</td>\n",
       "      <td>53.200000</td>\n",
       "      <td>-2.916667</td>\n",
       "    </tr>\n",
       "    <tr>\n",
       "      <th>3</th>\n",
       "      <td>1956-10-10 21:00:00</td>\n",
       "      <td>edna</td>\n",
       "      <td>tx</td>\n",
       "      <td>us</td>\n",
       "      <td>circle</td>\n",
       "      <td>20.0</td>\n",
       "      <td>1/2 hour</td>\n",
       "      <td>My older brother and twin sister were leaving ...</td>\n",
       "      <td>2004-01-17</td>\n",
       "      <td>28.978333</td>\n",
       "      <td>-96.645833</td>\n",
       "    </tr>\n",
       "    <tr>\n",
       "      <th>4</th>\n",
       "      <td>1960-10-10 20:00:00</td>\n",
       "      <td>kaneohe</td>\n",
       "      <td>hi</td>\n",
       "      <td>us</td>\n",
       "      <td>light</td>\n",
       "      <td>900.0</td>\n",
       "      <td>15 minutes</td>\n",
       "      <td>AS a Marine 1st Lt. flying an FJ4B fighter/att...</td>\n",
       "      <td>2004-01-22</td>\n",
       "      <td>21.418056</td>\n",
       "      <td>-157.803611</td>\n",
       "    </tr>\n",
       "  </tbody>\n",
       "</table>\n",
       "</div>"
      ],
      "text/plain": [
       "                 date                  city state country     shape  \\\n",
       "0 1949-10-10 20:30:00            san marcos    tx      us  cylinder   \n",
       "1 1949-10-10 21:00:00          lackland afb    tx     NaN     light   \n",
       "2 1955-10-10 17:00:00  chester (uk/england)   NaN      gb    circle   \n",
       "3 1956-10-10 21:00:00                  edna    tx      us    circle   \n",
       "4 1960-10-10 20:00:00               kaneohe    hi      us     light   \n",
       "\n",
       "   duration_seconds duration_reported  \\\n",
       "0            2700.0        45 minutes   \n",
       "1            7200.0           1-2 hrs   \n",
       "2              20.0        20 seconds   \n",
       "3              20.0          1/2 hour   \n",
       "4             900.0        15 minutes   \n",
       "\n",
       "                                         description report_date   latitude  \\\n",
       "0  This event took place in early fall around 194...  2004-04-27  29.883056   \n",
       "1  1949 Lackland AFB&#44 TX.  Lights racing acros...  2005-12-16  29.384210   \n",
       "2  Green/Orange circular disc over Chester&#44 En...  2008-01-21  53.200000   \n",
       "3  My older brother and twin sister were leaving ...  2004-01-17  28.978333   \n",
       "4  AS a Marine 1st Lt. flying an FJ4B fighter/att...  2004-01-22  21.418056   \n",
       "\n",
       "    longitude  \n",
       "0  -97.941111  \n",
       "1  -98.581082  \n",
       "2   -2.916667  \n",
       "3  -96.645833  \n",
       "4 -157.803611  "
      ]
     },
     "execution_count": 4,
     "metadata": {},
     "output_type": "execute_result"
    }
   ],
   "source": [
    "ufo.head()"
   ]
  },
  {
   "cell_type": "code",
   "execution_count": 5,
   "metadata": {
    "collapsed": true
   },
   "outputs": [],
   "source": [
    "ufo['year'] = [i.year for i in ufo['date']]\n",
    "ufo = ufo.set_index('year')"
   ]
  },
  {
   "cell_type": "code",
   "execution_count": 6,
   "metadata": {},
   "outputs": [
    {
     "data": {
      "text/plain": [
       "year\n",
       "1952    1\n",
       "1956    1\n",
       "1960    1\n",
       "1963    1\n",
       "1966    2\n",
       "1967    2\n",
       "Name: report_date, dtype: int64"
      ]
     },
     "execution_count": 6,
     "metadata": {},
     "output_type": "execute_result"
    }
   ],
   "source": [
    "ufo_temp = ufo.groupby(['state', 'year'])['report_date'].count()\n",
    "ufo_temp['ab'].loc[1952: 1969]"
   ]
  },
  {
   "cell_type": "code",
   "execution_count": 7,
   "metadata": {
    "collapsed": true
   },
   "outputs": [],
   "source": [
    "ufo_temp_S = ufo.groupby(['state', 'year'])['report_date'].count()\n",
    "ufo_temp_D = ufo.groupby(['state', 'year'])['duration_seconds'].sum()"
   ]
  },
  {
   "cell_type": "code",
   "execution_count": 8,
   "metadata": {
    "collapsed": true
   },
   "outputs": [],
   "source": [
    "# total_sightings = ufo.groupby(['state','year'])['report_date'].count()\n",
    "# total_time = ufo.groupby(['state','year'])['duration_seconds'].sum()"
   ]
  },
  {
   "cell_type": "code",
   "execution_count": 9,
   "metadata": {
    "collapsed": true
   },
   "outputs": [],
   "source": [
    "# total_sightings_year = ufo.groupby('year')\n",
    "# total_sightings_year = total_sightings_year['date'].count()\n",
    "# total_duration_year = ufo.groupby('year')['duration_seconds'].sum()"
   ]
  },
  {
   "cell_type": "markdown",
   "metadata": {},
   "source": [
    "### Define a Figure"
   ]
  },
  {
   "cell_type": "code",
   "execution_count": 10,
   "metadata": {
    "collapsed": true,
    "scrolled": true
   },
   "outputs": [],
   "source": [
    "total_S = ufo_temp_S['tx']\n",
    "total_D = ufo_temp_D['tx']"
   ]
  },
  {
   "cell_type": "code",
   "execution_count": 11,
   "metadata": {
    "collapsed": true
   },
   "outputs": [],
   "source": [
    "# total_S[:]"
   ]
  },
  {
   "cell_type": "code",
   "execution_count": 12,
   "metadata": {
    "collapsed": true
   },
   "outputs": [],
   "source": [
    "#total_S.values()\n",
    "# total_S.index\n"
   ]
  },
  {
   "cell_type": "code",
   "execution_count": 13,
   "metadata": {
    "collapsed": true
   },
   "outputs": [],
   "source": [
    "import bqplot.pyplot as bqp"
   ]
  },
  {
   "cell_type": "code",
   "execution_count": 14,
   "metadata": {
    "collapsed": true
   },
   "outputs": [],
   "source": [
    "dt_x_fast = LinearScale()#min = min(ufo['date']), max = max(ufo['date']))\n",
    "lin_y = LinearScale()#min = 0, max = 10000)\n",
    "\n",
    "x_ax = Axis(label = 'Year', scale = dt_x_fast)\n",
    "y_ay_S = Axis(label = (Symbol_S + ' of the selected state'),\n",
    "           scale = lin_y, orientation = 'vertical')\n",
    "y_ay_D = Axis(label = (Symbol_D + ' of the selected state'),\n",
    "           scale = lin_y, orientation = 'vertical')\n",
    "# lc = Lines(x = pd.Series(total_S.index.values), y = total_S[:], colors = ['orange'],scales={'x':dt_x_fast,'y':lin_y})\n",
    "lc = Lines(x = pd.Series(total_S.index.values), \n",
    "           y = total_S[:], \n",
    "           colors = ['orange'],\n",
    "           scales={'x':LinearScale(),'y':LinearScale()})\n",
    "\n",
    "lc2 = Lines(x = pd.Series(total_D.index.values), \n",
    "            y = total_D[:],\n",
    "            colors = ['blue'],\n",
    "            scales={'x':LinearScale(),'y':LinearScale()})"
   ]
  },
  {
   "cell_type": "code",
   "execution_count": 22,
   "metadata": {},
   "outputs": [
    {
     "data": {
      "text/plain": [
       "1910"
      ]
     },
     "execution_count": 22,
     "metadata": {},
     "output_type": "execute_result"
    }
   ],
   "source": [
    "total_S.index.values[0]"
   ]
  },
  {
   "cell_type": "markdown",
   "metadata": {},
   "source": [
    "### Define the type of selector we would like"
   ]
  },
  {
   "cell_type": "code",
   "execution_count": 16,
   "metadata": {
    "collapsed": true
   },
   "outputs": [],
   "source": [
    "intsel_fast = FastIntervalSelector(scale = dt_x_fast, marks = [lc])"
   ]
  },
  {
   "cell_type": "markdown",
   "metadata": {},
   "source": [
    "### Define a function that will be called when the FastIntervalSelector is interacted with"
   ]
  },
  {
   "cell_type": "code",
   "execution_count": 17,
   "metadata": {
    "collapsed": true
   },
   "outputs": [],
   "source": [
    "\n",
    "def fast_interval_change_callback(change):\n",
    "    ind = change.new\n",
    "    print(ind)\n",
    "#     tot = total_S.loc[int(round(ind[0])):int(ind[1])].count()\n",
    "    db_fast.value = 'The selected time period is '+ str(change.new)"
   ]
  },
  {
   "cell_type": "markdown",
   "metadata": {},
   "source": [
    "### Connect the selectors to the function\n"
   ]
  },
  {
   "cell_type": "code",
   "execution_count": 18,
   "metadata": {
    "collapsed": true
   },
   "outputs": [],
   "source": [
    "intsel_fast.observe(fast_interval_change_callback, names = ['selected'])"
   ]
  },
  {
   "cell_type": "markdown",
   "metadata": {},
   "source": [
    "### Use the HTML widget to see the value of what we are selecting and modify it when an interaction is performed on the selector"
   ]
  },
  {
   "cell_type": "code",
   "execution_count": 19,
   "metadata": {
    "scrolled": false
   },
   "outputs": [
    {
     "data": {
      "application/vnd.jupyter.widget-view+json": {
       "model_id": "99e0abe65faa429fa25b4b01a1727729",
       "version_major": 2,
       "version_minor": 0
      },
      "text/html": [
       "<p>Failed to display Jupyter Widget of type <code>VBox</code>.</p>\n",
       "<p>\n",
       "  If you're reading this message in the Jupyter Notebook or JupyterLab Notebook, it may mean\n",
       "  that the widgets JavaScript is still loading. If this message persists, it\n",
       "  likely means that the widgets JavaScript library is either not installed or\n",
       "  not enabled. See the <a href=\"https://ipywidgets.readthedocs.io/en/stable/user_install.html\">Jupyter\n",
       "  Widgets Documentation</a> for setup instructions.\n",
       "</p>\n",
       "<p>\n",
       "  If you're reading this message in another frontend (for example, a static\n",
       "  rendering on GitHub or <a href=\"https://nbviewer.jupyter.org/\">NBViewer</a>),\n",
       "  it may mean that your frontend doesn't currently support widgets.\n",
       "</p>\n"
      ],
      "text/plain": [
       "VBox(children=(HTML(value='The selected time period is None'), Figure(axes=[Axis(label='Year', scale=LinearScale(), side='bottom'), Axis(label='Total Sightings of the selected state', orientation='vertical', scale=LinearScale(), side='left')], fig_margin={'top': 60, 'bottom': 60, 'left': 60, 'right': 60}, interaction=FastIntervalSelector(marks=[Lines(colors=['orange'], interactions={'hover': 'tooltip'}, scales={'x': LinearScale(), 'y': LinearScale()}, scales_metadata={'x': {'orientation': 'horizontal', 'dimension': 'x'}, 'y': {'orientation': 'vertical', 'dimension': 'y'}, 'color': {'dimension': 'color'}}, tooltip_style={'opacity': 0.9}, x=array([1910, 1945, 1946, 1947, 1948, 1949, 1950, 1952, 1953, 1954, 1955,\n",
       "       1956, 1957, 1958, 1959, 1960, 1961, 1962, 1963, 1964, 1965, 1966,\n",
       "       1967, 1968, 1969, 1970, 1971, 1972, 1973, 1974, 1975, 1976, 1977,\n",
       "       1978, 1979, 1980, 1981, 1982, 1983, 1984, 1985, 1986, 1987, 1988,\n",
       "       1989, 1990, 1991, 1992, 1993, 1994, 1995, 1996, 1997, 1998, 1999,\n",
       "       2000, 2001, 2002, 2003, 2004, 2005, 2006, 2007, 2008, 2009, 2010,\n",
       "       2011, 2012, 2013, 2014]), y=array([  1,   1,   1,   1,   1,   3,   1,   4,   4,   6,   3,   2,  12,\n",
       "         3,   1,   3,   5,   4,   4,   2,   9,   9,   9,  11,   7,   7,\n",
       "         8,  12,  19,  10,  19,  15,  10,  15,  12,  15,   5,   5,   9,\n",
       "        13,  15,  13,  13,  12,  11,  14,  12,  17,  15,  11,  38,  39,\n",
       "        69,  81, 132, 132, 125, 153, 170, 182, 197, 213, 190, 341, 237,\n",
       "       207, 235, 232, 221,  69]))], scale=LinearScale()), layout=Layout(min_width='125px'), marks=[Lines(colors=['orange'], interactions={'hover': 'tooltip'}, scales={'x': LinearScale(), 'y': LinearScale()}, scales_metadata={'x': {'orientation': 'horizontal', 'dimension': 'x'}, 'y': {'orientation': 'vertical', 'dimension': 'y'}, 'color': {'dimension': 'color'}}, tooltip_style={'opacity': 0.9}, x=array([1910, 1945, 1946, 1947, 1948, 1949, 1950, 1952, 1953, 1954, 1955,\n",
       "       1956, 1957, 1958, 1959, 1960, 1961, 1962, 1963, 1964, 1965, 1966,\n",
       "       1967, 1968, 1969, 1970, 1971, 1972, 1973, 1974, 1975, 1976, 1977,\n",
       "       1978, 1979, 1980, 1981, 1982, 1983, 1984, 1985, 1986, 1987, 1988,\n",
       "       1989, 1990, 1991, 1992, 1993, 1994, 1995, 1996, 1997, 1998, 1999,\n",
       "       2000, 2001, 2002, 2003, 2004, 2005, 2006, 2007, 2008, 2009, 2010,\n",
       "       2011, 2012, 2013, 2014]), y=array([  1,   1,   1,   1,   1,   3,   1,   4,   4,   6,   3,   2,  12,\n",
       "         3,   1,   3,   5,   4,   4,   2,   9,   9,   9,  11,   7,   7,\n",
       "         8,  12,  19,  10,  19,  15,  10,  15,  12,  15,   5,   5,   9,\n",
       "        13,  15,  13,  13,  12,  11,  14,  12,  17,  15,  11,  38,  39,\n",
       "        69,  81, 132, 132, 125, 153, 170, 182, 197, 213, 190, 341, 237,\n",
       "       207, 235, 232, 221,  69]))], scale_x=LinearScale(allow_padding=False, max=1.0, min=0.0), scale_y=LinearScale(allow_padding=False, max=1.0, min=0.0)), Dropdown(options=('Total Sightings', 'Total Time'), value='Total Sightings')))"
      ]
     },
     "metadata": {},
     "output_type": "display_data"
    }
   ],
   "source": [
    "db_fast = HTML()\n",
    "\n",
    "db_fast.value = 'The selected time period is ' + str(intsel_fast.selected)\n",
    "\n",
    "fig_fast_insel_sights = Figure(marks = [lc], axes = [x_ax, y_ay_S],\n",
    "                               interaction = intsel_fast)\n",
    "fig_fast_insel_time = Figure(marks = [lc2], axes = [x_ax, y_ay_D],\n",
    "                            interaction = intsel_fast)\n",
    "\n",
    "def watch_dropdown(change):\n",
    "    db_fast_S.value = str((change.old, change.new))\n",
    "new_dropdown = Dropdown(options = ['Total Sightings','Total Time'])\n",
    "new_dropdown.observe(watch_dropdown, names = ['value'])\n",
    "VBox([db_fast,fig_fast_insel_sights, new_dropdown])\n"
   ]
  },
  {
   "cell_type": "code",
   "execution_count": 99,
   "metadata": {
    "collapsed": true
   },
   "outputs": [],
   "source": [
    "import us"
   ]
  },
  {
   "cell_type": "code",
   "execution_count": null,
   "metadata": {
    "collapsed": true
   },
   "outputs": [],
   "source": [
    "cap_select = Dropdown(options=['Total Sightings','Total Duration Time'],description='Caption:')\n",
    "def onCaptionSelected(change):\n",
    "    cap = change['new']\n",
    "    if cap == 'Total Sightings':\n",
    "        states_map.color = fips_count.to_dict()\n",
    "    if cap == 'Total Duration Time':\n",
    "        states_map.color = total_time_all.to_dict()\n",
    "        \n",
    "cap_select.observe(onCaptionSelected,'value') "
   ]
  },
  {
   "cell_type": "code",
   "execution_count": null,
   "metadata": {
    "collapsed": true
   },
   "outputs": [],
   "source": [
    "abbr_to_fits = us.states.mapping('abbr', 'fips')\n",
    "ufo[\"fips\"] = ufo[\"state\"].apply(lambda a: int(abbr_to_fits.get(str(a).upper(), -1)))\n",
    "fips_count = ufo.groupby(\"fips\")[\"duration_seconds\"].count()\n",
    "total_time_all = ufo.groupby(\"fips\")[\"duration_seconds\"].sum()\n",
    "\n",
    "map_styles = {'scales': {'projection': bqplot.AlbersUSA(),\n",
    "                         'color': bqplot.ColorScale(colors=[\"red\",\"yellow\", \"blue\"])},\n",
    "              'color': fips_count.to_dict()}\n",
    "map_tt = bqplot.Tooltip(fields = ['name','color'], labels = ['state','duration_seconds'])\n",
    "states_map = bqplot.Map(map_data=bqplot.topo_load('map_data/USStatesMap.json'),\n",
    "                        interactions = {'click':'select','hover':'tooltip'},\n",
    "                        unslected_styles = {'opacity': 0.4},\n",
    "                        **map_styles, tooltip = map_tt, display_legend = False, labels=['UFO Sightings'])\n",
    "fig_map = bqplot.Figure(marks=[states_map], fig_margins = {60,60,40,40},\n",
    "                    title='UFO Sightings in the United States')"
   ]
  },
  {
   "cell_type": "code",
   "execution_count": null,
   "metadata": {
    "collapsed": true
   },
   "outputs": [],
   "source": [
    "def observe_selected(change):\n",
    "    print(states_map.selected[-1])\n",
    "    for abbr,fips in abbr_to_fits.items():\n",
    "        if fips == str(states_map.selected[-1]):\n",
    "            state_selected = abbr.lower()\n",
    "            if cap_select.value == 'Total Sightings':\n",
    "                plot_all.x = total_sightings[state_selected].index.values\n",
    "                plot_all.y = total_sightings[state_selected][:]\n",
    "    print(states_map.selected)\n",
    "states_map.observe(observe_selected, 'selected')"
   ]
  },
  {
   "cell_type": "code",
   "execution_count": null,
   "metadata": {
    "collapsed": true
   },
   "outputs": [],
   "source": [
    "plot_all = Lines(x=total_sightings_year.index.values,y=total_sightings_year[:],colors = ['orange'],scales={'x':dt_x_fast,'y':lin_y})\n",
    "fig_all = Figure(marks=[plot_all],axes = [x_ax, y_ay_S],)"
   ]
  },
  {
   "cell_type": "code",
   "execution_count": null,
   "metadata": {
    "collapsed": true
   },
   "outputs": [],
   "source": [
    "total_sightings_year.index.values"
   ]
  },
  {
   "cell_type": "code",
   "execution_count": null,
   "metadata": {
    "collapsed": true
   },
   "outputs": [],
   "source": [
    "HBox([VBox([cap_select,fig_map]),fig_all])"
   ]
  },
  {
   "cell_type": "code",
   "execution_count": null,
   "metadata": {
    "collapsed": true
   },
   "outputs": [],
   "source": [
    "len(ufo)"
   ]
  },
  {
   "cell_type": "code",
   "execution_count": null,
   "metadata": {
    "collapsed": true
   },
   "outputs": [],
   "source": []
  }
 ],
 "metadata": {
  "kernelspec": {
   "display_name": "Python 3",
   "language": "python",
   "name": "python3"
  },
  "language_info": {
   "codemirror_mode": {
    "name": "ipython",
    "version": 3
   },
   "file_extension": ".py",
   "mimetype": "text/x-python",
   "name": "python",
   "nbconvert_exporter": "python",
   "pygments_lexer": "ipython3",
   "version": "3.6.3"
  }
 },
 "nbformat": 4,
 "nbformat_minor": 2
}
