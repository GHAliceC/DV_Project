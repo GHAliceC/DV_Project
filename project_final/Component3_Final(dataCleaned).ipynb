{
 "cells": [
  {
   "cell_type": "markdown",
   "metadata": {
    "collapsed": true
   },
   "source": [
    "### This component builds an interactive visualization of the UFO sighting database. It includes a colored US map with information tooltip, a plot displaying total number of sightings and total duration of sightings with choices.\n",
    "#### UFO Sightings: https://www.kaggle.com/NUFORC/ufo-sightings."
   ]
  },
  {
   "cell_type": "code",
   "execution_count": null,
   "metadata": {
    "collapsed": true
   },
   "outputs": [],
   "source": [
    "import pandas as pd\n",
    "import numpy as np\n",
    "import bqplot\n",
    "import yt\n",
    "import us\n",
    "import math\n",
    "from tqdm import tqdm\n",
    "from bqplot import LinearScale, Axis, Lines, Figure, LogScale\n",
    "from bqplot.interacts import FastIntervalSelector\n",
    "from ipywidgets import VBox, HTML, Dropdown, HBox"
   ]
  },
  {
   "cell_type": "markdown",
   "metadata": {},
   "source": [
    "### 1. Read and clean Data, set year as index, and aggregate by year\n",
    "#### 1) Read data, and clean data to adjust it to proper format"
   ]
  },
  {
   "cell_type": "code",
   "execution_count": 2,
   "metadata": {
    "scrolled": true
   },
   "outputs": [
    {
     "name": "stderr",
     "output_type": "stream",
     "text": [
      "/Users/chenwei/anaconda3/lib/python3.6/site-packages/IPython/core/interactiveshell.py:2698: DtypeWarning: Columns (5,9) have mixed types. Specify dtype option on import or set low_memory=False.\n",
      "  interactivity=interactivity, compiler=compiler, result=result)\n"
     ]
    }
   ],
   "source": [
    "names = [\"date\", \"city\", \"state\", \"country\", \"shape\", \"duration_seconds\",\n",
    "         \"duration_reported\", \"rdescription\", \"report_date\", \"latitude\",\n",
    "         \"longitude\"]\n",
    "fn = \"ufo-scrubbed-geocoded-time-standardized.csv\"\n",
    "ufo = pd.read_csv(fn, names = names, parse_dates = [\"date\", \"report_date\"])\n",
    "state_info = pd.read_csv(\"state_info.txt\")"
   ]
  },
  {
   "cell_type": "code",
   "execution_count": 3,
   "metadata": {
    "collapsed": true
   },
   "outputs": [],
   "source": [
    "def make_float(v):\n",
    "    try:\n",
    "        return float(v)\n",
    "    except:\n",
    "        return v"
   ]
  },
  {
   "cell_type": "code",
   "execution_count": 4,
   "metadata": {},
   "outputs": [
    {
     "name": "stderr",
     "output_type": "stream",
     "text": [
      "100%|██████████| 80332/80332 [02:35<00:00, 515.50it/s]\n"
     ]
    }
   ],
   "source": [
    "ls = list(ufo[\"duration_seconds\"])\n",
    "selected = []\n",
    "\n",
    "for i in tqdm(range(len(ls))):\n",
    "#     d = ls[i]\n",
    "    item = make_float(ls[i])\n",
    "    if type(item) == str:\n",
    "        selected.append(i)\n",
    "    else:\n",
    "        ufo.loc[i, \"duration_seconds\"] = item\n",
    "for i in selected:\n",
    "    ufo.loc[i, 'duration_seconds'] = float(ufo.loc[i, 'duration_seconds'].replace(\"`\", \"\"))\n",
    "    "
   ]
  },
  {
   "cell_type": "code",
   "execution_count": 5,
   "metadata": {},
   "outputs": [
    {
     "data": {
      "text/plain": [
       "array([2700.0, 7200.0, 20.0, ..., 1200.0, 5.0, 1020.0], dtype=object)"
      ]
     },
     "execution_count": 5,
     "metadata": {},
     "output_type": "execute_result"
    }
   ],
   "source": [
    "ufo[\"duration_seconds\"].values"
   ]
  },
  {
   "cell_type": "markdown",
   "metadata": {},
   "source": [
    "#### 2) Include 'fips' into ufo dataset and aggregate state area data into ufo dataset by matching values in fips and GEOID"
   ]
  },
  {
   "cell_type": "code",
   "execution_count": 6,
   "metadata": {
    "collapsed": true
   },
   "outputs": [],
   "source": [
    "abbr_to_fits = us.states.mapping('abbr', 'fips')\n",
    "ufo[\"fips\"] = ufo[\"state\"].apply(lambda a: int(abbr_to_fits.get(str(a).upper(), -1)))\n",
    "fips_count = ufo.groupby(\"fips\")[\"duration_seconds\"].count()\n",
    "\n",
    "gg = ufo.groupby(\"fips\")\n",
    "total_time = []\n",
    "fips_ind = []\n",
    "sum_dur = 0\n",
    "for name, group in gg:\n",
    "    for i in group[\"duration_seconds\"]:\n",
    "        sum_dur += i\n",
    "    total_time.append(sum_dur)\n",
    "    fips_ind.append(name)\n",
    "    sum_dur = 0\n",
    "       \n",
    "total_time_all = pd.Series(total_time, index = fips_ind)\n",
    "ufo[\"GEOID\"] = [int(i) for i in ufo[\"fips\"]]\n",
    "ufo.set_index(\"GEOID\")\n",
    "ufo = ufo.join(state_info.set_index(\"GEOID\"), on=\"GEOID\", lsuffix=\"org\", rsuffix=\"new\")\n"
   ]
  },
  {
   "cell_type": "code",
   "execution_count": 7,
   "metadata": {},
   "outputs": [
    {
     "name": "stderr",
     "output_type": "stream",
     "text": [
      "100%|██████████| 80332/80332 [05:40<00:00, 235.81it/s]\n"
     ]
    }
   ],
   "source": [
    "import datetime\n",
    "format_str = '%m/%d/%Y %H:%M'\n",
    "ll = list(ufo[\"date\"])\n",
    "for idx in tqdm(range(len(ll))): \n",
    "    if type(ll[idx]) == datetime.datetime: continue\n",
    "    \n",
    "    try:\n",
    "        ufo.loc[idx,\"date\"] = datetime.datetime.strptime(ll[idx], format_str)\n",
    "    except ValueError:\n",
    "        ll[idx] = ll[idx].replace('24:', '23:')\n",
    "        ll[idx] = datetime.datetime.strptime(ll[idx], format_str)\n",
    "        ll[idx] += datetime.timedelta(hours=1)\n",
    "        ufo.loc[idx, \"date\"] = ll[idx]\n",
    "    "
   ]
  },
  {
   "cell_type": "markdown",
   "metadata": {},
   "source": [
    "#### 3) Set \"year\" as index of UFO dataset, normalize the total sightings as well as total duration per year by states area"
   ]
  },
  {
   "cell_type": "code",
   "execution_count": 8,
   "metadata": {
    "collapsed": true
   },
   "outputs": [],
   "source": [
    "ufo[\"year\"] = [i.year for i in ufo[\"date\"]]\n",
    "ufo = ufo.set_index(\"year\")"
   ]
  },
  {
   "cell_type": "code",
   "execution_count": 9,
   "metadata": {
    "collapsed": true
   },
   "outputs": [],
   "source": [
    "ufo[\"count\"] = [1/i for i in ufo[\"Area\"]]\n",
    "ufo[\"duration_norm\"] = ufo[\"duration_seconds\"]/ufo[\"Area\"]"
   ]
  },
  {
   "cell_type": "code",
   "execution_count": 10,
   "metadata": {
    "collapsed": true
   },
   "outputs": [],
   "source": [
    "total_sightings = ufo.groupby([\"state\", \"year\"])[\"count\"].sum()\n",
    "total_time = ufo.groupby([\"state\",\"year\"])[\"duration_norm\"].sum()"
   ]
  },
  {
   "cell_type": "code",
   "execution_count": 11,
   "metadata": {
    "collapsed": true
   },
   "outputs": [],
   "source": [
    "total_sightings_unnorm = ufo.groupby(['state','year'])['count'].count()\n",
    "total_time_unnorm = ufo.groupby(['state','year'])['duration_seconds'].sum()\n"
   ]
  },
  {
   "cell_type": "code",
   "execution_count": 12,
   "metadata": {
    "collapsed": true
   },
   "outputs": [],
   "source": [
    "total_sightings_year = ufo.groupby('year')\n",
    "total_sightings_year = total_sightings_year['count'].count()\n",
    "total_duration_year = ufo.groupby('year')['duration_seconds'].sum()"
   ]
  },
  {
   "cell_type": "code",
   "execution_count": 13,
   "metadata": {
    "collapsed": true
   },
   "outputs": [],
   "source": [
    "total_sightings_state1 = ufo.groupby('fips')['count'].sum()\n",
    "total_duration_state = ufo.groupby('fips')['duration_norm'].sum()"
   ]
  },
  {
   "cell_type": "code",
   "execution_count": 60,
   "metadata": {},
   "outputs": [
    {
     "name": "stdout",
     "output_type": "stream",
     "text": [
      "nan\n",
      "nan\n"
     ]
    }
   ],
   "source": [
    "total_sightings_state = {}\n",
    "for i, j in zip(total_sightings_state1, total_sightings_state1.index):\n",
    "    if i==0:\n",
    "        continue\n",
    "    total_sightings_state[j] = math.log2(i)"
   ]
  },
  {
   "cell_type": "markdown",
   "metadata": {},
   "source": [
    "### 2. Create US map and plots of total sightings and total duration in the function of year\n",
    "#### 1) Get US map data and add id, coordinate, area properties to the dictionary"
   ]
  },
  {
   "cell_type": "code",
   "execution_count": 16,
   "metadata": {
    "collapsed": true
   },
   "outputs": [],
   "source": [
    "geom_data = bqplot.topo_load('map_data/USStatesMap.json')\n",
    "for i in geom_data['objects']['subunits']['geometries']:\n",
    "    for row in state_info.itertuples():\n",
    "        if i['id'] == row.GEOID:\n",
    "            i['coordinate'] = [row.INTPTLAT,row.INTPTLON]\n",
    "            i['area'] = row.Area"
   ]
  },
  {
   "cell_type": "markdown",
   "metadata": {},
   "source": [
    "#### 2) Observe selecting function of the map, and connect the selected state to plots"
   ]
  },
  {
   "cell_type": "code",
   "execution_count": 17,
   "metadata": {
    "collapsed": true
   },
   "outputs": [],
   "source": [
    "sighting_text = 'Number'\n",
    "time_text = 'Duration Time'\n",
    "title = HTML()\n",
    "title.value = '<center><font size=\"+2\"><b>Total %s of UFO Sightings in US by Year</b></font></center>'%(sighting_text)\n"
   ]
  },
  {
   "cell_type": "code",
   "execution_count": 55,
   "metadata": {},
   "outputs": [],
   "source": [
    "map_styles = {'scales': {'projection': bqplot.AlbersUSA(),\n",
    "                         'color': bqplot.ColorScale(colors=[\"#c7e9b4\",\"#253494\"])},\n",
    "              'color': total_sightings_state}\n",
    "map_tt = bqplot.Tooltip(fields = ['name','id'], labels = ['State','ID'])\n",
    "states_map = bqplot.Map(map_data=geom_data,\n",
    "                        interactions = {'click':'select','hover':'tooltip'},\n",
    "                        unslected_styles = {'opacity': 0.4},\n",
    "                        **map_styles, tooltip = map_tt, display_legend = False, labels=['UFO Sightings'])\n",
    "fig_map = bqplot.Figure(marks=[states_map] , fig_margin = {'top':20,'bottom':30,'left':-105,'right':0})\n"
   ]
  },
  {
   "cell_type": "markdown",
   "metadata": {},
   "source": [
    "#### 3) Record the selected state and choice of observed object(duration_time/observed times)"
   ]
  },
  {
   "cell_type": "code",
   "execution_count": 15,
   "metadata": {
    "collapsed": true
   },
   "outputs": [],
   "source": [
    "state_seleceted = ''\n",
    "dt_x_fast = LinearScale()\n",
    "lin_y = LinearScale()\n",
    "log_y = LogScale()\n",
    "\n",
    "x_ax = Axis(label = \"Year\", scale = dt_x_fast)\n",
    "y_ay_S = Axis(scale = lin_y, orientation = \"vertical\")\n",
    "y_ay_D = Axis(scale = log_y, orientation = \"vertical\")"
   ]
  },
  {
   "cell_type": "code",
   "execution_count": 19,
   "metadata": {
    "collapsed": true
   },
   "outputs": [],
   "source": [
    "def observe_selected(change):\n",
    "    ind = intsel_fast.selected\n",
    "    if states_map.selected:\n",
    "        for abbr,fips in abbr_to_fits.items():  \n",
    "            if fips:\n",
    "                if int(fips) == states_map.selected[-1]:\n",
    "                    global state_selected\n",
    "                    state_selected = abbr.lower()                  \n",
    "                    if cap_select.value == 'Total Sightings':\n",
    "                        plot_all.x = total_sightings[state_selected].index.values\n",
    "                        plot_all.y = total_sightings[state_selected][:]\n",
    "                        title.value = '<center><font size=\"+2\"><b>Normalized Total %s of UFO Sightings in %s by Year</b></font></center>'%(\n",
    "                                      sighting_text,state_selected.upper())\n",
    "                        if not ind is None:\n",
    "                            if any(ind):\n",
    "                                tot = total_sightings_unnorm[state_selected].loc[ind[0]:ind[1]].sum()\n",
    "                                db_fast.value = '<center>The selected time period: <strong>%s - %s</strong>. Total sightings: <strong>%s</strong></center>'%(\n",
    "                                                int(ind[0]),int(ind[1]),str(tot))\n",
    "                    \n",
    "                    if cap_select.value == 'Total Duration Time':\n",
    "                        plot_all.x = total_time[state_selected].index.values\n",
    "                        plot_all.y = total_time[state_selected][:]\n",
    "                        title.value = '<center><font size=\"+2\"><b>Normalized Total %s of UFO Sightings in %s by Year</b></font></center>'%(\n",
    "                                      time_text,state_selected.upper())\n",
    "                        if not ind is None:\n",
    "                            if any(ind):\n",
    "                                tot = total_time_unnorm[state_selected].loc[ind[0]:ind[1]].sum()\n",
    "                                db_fast.value = '<center>The selected time period: <strong>%s - %s</strong>. Total duration seconds: <strong>%s</strong></center>'%(\n",
    "                                                int(ind[0]),int(ind[1]),str(tot))\n",
    "    else:\n",
    "        state_selected = ''\n",
    "        if cap_select.value == 'Total Sightings':\n",
    "            plot_all.x = total_sightings_year.index.values\n",
    "            plot_all.y = total_sightings_year[:]\n",
    "            title.value = '<center><font size=\"+2\"><b>Total %s of UFO Sightings in US by Year</b></font></center>'%(sighting_text)\n",
    "        if cap_select.value == 'Total Duration Time':\n",
    "            plot_all.x = total_duration_year.index.values\n",
    "            plot_all.y = total_duration_year[:]\n",
    "            title.value = '<center><font size=\"+2\"><b>Total %s of UFO Sightings in US by Year</b></font></center>'%(time_text)\n",
    "        if not ind is None:\n",
    "            if any(ind):\n",
    "                if cap_select.value == 'Total Sightings':\n",
    "                    tot = total_sightings_year.loc[ind[0]:ind[1]].sum() \n",
    "                    db_fast.value = '<center>The selected time period: <strong>%s - %s</strong>. Total sightings: <strong>%s</strong></center>'%(\n",
    "                                    int(ind[0]),int(ind[1]),str(tot))\n",
    "                if cap_select.value == 'Total Duration Time':\n",
    "                    tot = total_duration_year.loc[ind[0]:ind[1]].sum()\n",
    "                    db_fast.value = '<center>The selected time period: <strong>%s - %s</strong>. Total duration seconds: <strong>%s</strong></center>'%(\n",
    "                                    int(ind[0]),int(ind[1]),str(tot))\n",
    "        \n",
    "states_map.observe(observe_selected, 'selected')"
   ]
  },
  {
   "cell_type": "markdown",
   "metadata": {},
   "source": [
    "#### 4) Create plots with Time interval by year, and use callback function to return the selected interval"
   ]
  },
  {
   "cell_type": "code",
   "execution_count": 20,
   "metadata": {
    "collapsed": true
   },
   "outputs": [],
   "source": [
    "plot_all = Lines(x=total_sightings_year.index.values,y=total_sightings_year[:],\n",
    "                 colors = ['orange'],scales={'x':dt_x_fast,'y':lin_y})\n",
    "\n",
    "intsel_fast = FastIntervalSelector(scale = dt_x_fast, marks = [plot_all])\n",
    "\n",
    "def fast_interval_change_callback(change):\n",
    "    ind = change.new\n",
    "    if any(ind):\n",
    "        if cap_select.value == 'Total Sightings':\n",
    "            if not states_map.selected:\n",
    "                tot = total_sightings_year.loc[ind[0]:ind[1]].sum()                \n",
    "            else:\n",
    "                tot = total_sightings_unnorm[state_selected].loc[ind[0]:ind[1]].sum()\n",
    "            db_fast.value = '<center>The selected time period: <strong>%s - %s</strong>. Total sightings: <strong>%s</strong></center>'%(\n",
    "                            int(ind[0]),int(ind[1]),str(tot))\n",
    "        if cap_select.value == 'Total Duration Time':\n",
    "            if not states_map.selected:\n",
    "                tot = total_duration_year.loc[ind[0]:ind[1]].sum()\n",
    "            else:\n",
    "                tot = total_time_unnorm[state_selected].loc[ind[0]:ind[1]].sum()\n",
    "            db_fast.value = '<center>The selected time period:<strong>%s - %s</strong>. Total duration seconds: <strong>%s</strong></center>'%(\n",
    "                            int(ind[0]),int(ind[1]),str(tot))\n",
    "intsel_fast.observe(fast_interval_change_callback,names = ['selected'])\n",
    "db_fast = HTML()\n",
    "db_fast.value = '<center>The selected time period is <strong>%s</strong></center>'%(str(intsel_fast.selected))\n",
    "\n",
    "fig_all = Figure(marks=[plot_all],axes = [x_ax, y_ay_S],interaction=intsel_fast,max_aspect_ratio=1.2)\n",
    "\n"
   ]
  },
  {
   "cell_type": "markdown",
   "metadata": {},
   "source": [
    "#### 5) Add dropdown widget and connect US map and plots by using callback function"
   ]
  },
  {
   "cell_type": "code",
   "execution_count": 21,
   "metadata": {
    "collapsed": true
   },
   "outputs": [],
   "source": [
    "cap_select = Dropdown(options=['Total Sightings','Total Duration Time'],description='Caption:')\n",
    "def onCaptionSelected(change):\n",
    "    cap = change['new']\n",
    "    ind = intsel_fast.selected\n",
    "    if cap == 'Total Sightings':\n",
    "        states_map.color = total_sightings_state        \n",
    "        if not states_map.selected:\n",
    "            plot_all.x = total_sightings_year.index.values\n",
    "            plot_all.y = total_sightings_year[:]\n",
    "            title.value = '<center><font size=\"+2\"><b>Total %s of UFO Sightings in US by Year</b></font></center>'%(sighting_text)\n",
    "            if not ind is None:\n",
    "                if any(ind):\n",
    "                    tot = total_sightings_year.loc[ind[0]:ind[1]].sum()\n",
    "                    db_fast.value = '<center>The selected time period: <strong>%s - %s</strong>. Total sightings: <strong>%s</strong></center>'%(\n",
    "                                    int(ind[0]),int(ind[1]),str(tot))\n",
    "            \n",
    "        else:\n",
    "            plot_all.x = total_sightings[state_selected].index.values\n",
    "            plot_all.y = total_sightings[state_selected][:]\n",
    "            title.value = '<center><font size=\"+2\"><b>Normalized Total %s of UFO Sightings in %s by Year</b></font></center>'%(\n",
    "                        sighting_text,state_selected.upper())\n",
    "            if not ind is None:\n",
    "                if any(ind):\n",
    "                    tot = total_sightings_unnorm[state_selected].loc[ind[0]:ind[1]].sum()\n",
    "                    db_fast.value = '<center>The selected time period: <strong>%s - %s</strong>. Total sightings: <strong>%s</strong></center>'%(\n",
    "                                    int(ind[0]),int(ind[1]),str(tot))\n",
    "            \n",
    "    if cap == 'Total Duration Time':\n",
    "        states_map.color = total_duration_state.to_dict()\n",
    "        title.value = '<center><font size=\"+2\"><b>Total %s of UFO Sightings in US by Year</b></font></center>'%(time_text)\n",
    "        if not states_map.selected:\n",
    "            plot_all.x = total_duration_year.index.values\n",
    "            plot_all.y = total_duration_year[:]\n",
    "            title.value = '<center><font size=\"+2\"><b>Total %s of UFO Sightings in US by Year</b></font></center>'%(time_text)\n",
    "            if not ind is None:\n",
    "                if any(ind):\n",
    "                    tot = total_duration_year.loc[ind[0]:ind[1]].sum()\n",
    "                    db_fast.value = '<center>The selected time period: <strong>%s - %s</strong>. Total duration seconds: <strong>%s</strong></center>'%(\n",
    "                                    int(ind[0]),int(ind[1]),str(tot))\n",
    "        else:\n",
    "            plot_all.x = total_time[state_selected].index.values\n",
    "            plot_all.y = total_time[state_selected][:]\n",
    "            title.value = '<center><font size=\"+2\"><b>Normalized Total %s of UFO Sightings in %s by Year</b></font></center>'%(\n",
    "                        time_text,state_selected.upper())\n",
    "            if not ind is None:\n",
    "                if any(ind):\n",
    "                    tot = total_time_unnorm[state_selected].loc[ind[0]:ind[1]].sum()\n",
    "                    db_fast.value = '<center>The selected time period: <strong>%s - %s</strong>. Total duration seconds: <strong>%s</strong></center>'%(\n",
    "                                    int(ind[0]),int(ind[1]),str(tot))\n",
    "        \n",
    "cap_select.observe(onCaptionSelected,'value')"
   ]
  },
  {
   "cell_type": "markdown",
   "metadata": {},
   "source": [
    "### 3. Embed all the widgets an dfigures into a H-box"
   ]
  },
  {
   "cell_type": "code",
   "execution_count": 44,
   "metadata": {},
   "outputs": [
    {
     "data": {
      "application/vnd.jupyter.widget-view+json": {
       "model_id": "34682742e7dd4f7abada1050ea55e184",
       "version_major": 2,
       "version_minor": 0
      },
      "text/plain": [
       "A Jupyter Widget"
      ]
     },
     "metadata": {},
     "output_type": "display_data"
    }
   ],
   "source": [
    "VBox([title,\n",
    "      HBox([\n",
    "           VBox([cap_select,fig_map], layout = {'width': '80%','height':'95%'}),\n",
    "          VBox([db_fast,fig_all],layout = {'width': '100%','height':'95%'})])])"
   ]
  },
  {
   "cell_type": "code",
   "execution_count": 27,
   "metadata": {},
   "outputs": [
    {
     "name": "stdout",
     "output_type": "stream",
     "text": [
      "Requirement already up-to-date: pip in /Users/chenwei/anaconda3/lib/python3.6/site-packages (19.1.1)\n",
      "Enabling notebook extension jupyter-js-widgets/extension...\n",
      "      - Validating: OK\n"
     ]
    }
   ],
   "source": [
    "# !pip install --upgrade pip\n",
    "# !jupyter nbextension enable --py widgetsnbextension"
   ]
  },
  {
   "cell_type": "code",
   "execution_count": null,
   "metadata": {
    "collapsed": true
   },
   "outputs": [],
   "source": []
  }
 ],
 "metadata": {
  "kernelspec": {
   "display_name": "Python 3",
   "language": "python",
   "name": "python3"
  },
  "language_info": {
   "codemirror_mode": {
    "name": "ipython",
    "version": 3
   },
   "file_extension": ".py",
   "mimetype": "text/x-python",
   "name": "python",
   "nbconvert_exporter": "python",
   "pygments_lexer": "ipython3",
   "version": "3.6.3"
  }
 },
 "nbformat": 4,
 "nbformat_minor": 2
}
