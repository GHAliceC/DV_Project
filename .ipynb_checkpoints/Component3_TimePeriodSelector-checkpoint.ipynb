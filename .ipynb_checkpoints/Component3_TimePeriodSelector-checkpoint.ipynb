{
 "cells": [
  {
   "cell_type": "code",
   "execution_count": null,
   "metadata": {
    "collapsed": true
   },
   "outputs": [],
   "source": [
    "import pandas as pd\n",
    "import bqplot\n",
    "import us\n",
    "import numpy as np\n",
    "\n",
    "names = [\"date\", \"city\", \"state\", \"country\", \"shape\", \"duration_seconds\",\n",
    "         \"duration_reported\", \"description\", \"report_date\", \"latitude\",\n",
    "         \"longitude\"]\n",
    "fn = \"data/ufo-scrubbed-geocoded-time-standardized.csv\"\n",
    "ufo = pd.read_csv(fn, names = names, parse_dates = [\"date\", \"report_date\"])"
   ]
  },
  {
   "cell_type": "code",
   "execution_count": null,
   "metadata": {
    "collapsed": true
   },
   "outputs": [],
   "source": [
    "from ipywidgets import HBox, VBox, Dropdown"
   ]
  },
  {
   "cell_type": "code",
   "execution_count": null,
   "metadata": {
    "collapsed": true
   },
   "outputs": [],
   "source": [
    "# Get unique years\n",
    "ufo['date']\n",
    "year_data = [i.year for i in ufo['date']]\n",
    "ufo['year'] = year_data\n",
    "unique_year2 = ufo['year'].unique()\n",
    "unique_year = unique_year2.tolist()\n",
    "unique_year.insert(0,'---Year---')"
   ]
  },
  {
   "cell_type": "code",
   "execution_count": null,
   "metadata": {
    "collapsed": true
   },
   "outputs": [],
   "source": [
    "# Group data by year\n",
    "month_data = [i.month for i in ufo['date']]\n",
    "ufo['month'] = month_data\n",
    "ufo_by_year = ufo.groupby('year')\n",
    "day_data = [i.day for i in ufo['date']]\n",
    "ufo['day'] = day_data"
   ]
  },
  {
   "cell_type": "code",
   "execution_count": null,
   "metadata": {
    "collapsed": true
   },
   "outputs": [],
   "source": [
    "date_dict = {}\n",
    "for year in unique_year2:\n",
    "    if year not in date_dict.keys():\n",
    "        date_dict[year] = {}\n",
    "        \n",
    "    year_group = ufo_by_year.get_group(year)\n",
    "    ufo_by_year_month = year_group.groupby('month')\n",
    "    m = year_group['month'].unique()\n",
    "    for month in m:   \n",
    "        month_group = ufo_by_year_month.get_group(month)\n",
    "        d= month_group['day'].unique()\n",
    "        date_dict[year][month] = d.tolist()"
   ]
  },
  {
   "cell_type": "code",
   "execution_count": null,
   "metadata": {
    "collapsed": true
   },
   "outputs": [],
   "source": [
    "#Create start date selector\n",
    "start_year_select = Dropdown(options=unique_year,value='---Year---',description='Start Date:')\n",
    "start_month_select = Dropdown(options=['---Month---'])\n",
    "start_day_select = Dropdown(options=['---Day---'])\n",
    "\n",
    "def onYearSelected(change):\n",
    "    y = change['new']\n",
    "    print(y)\n",
    "    currentMonths = sorted(date_dict[y].keys())\n",
    "    currentMonths.insert(0,'---Month---')  \n",
    "    start_month_select.options = currentMonths\n",
    "    start_month_select.value = '---Month---'\n",
    "start_year_select.observe(onYearSelected, names='value')\n",
    "def onMonthSelected(change):\n",
    "    m = change['new']\n",
    "    print(m)\n",
    "    currentDays = sorted(date_dict[start_year_select.value][m])\n",
    "    currentDays.insert(0,'---Day---')\n",
    "    start_day_select.options = currentDays\n",
    "start_month_select.observe(onMonthSelected, 'value')\n",
    "def onDaySelected(change):\n",
    "    print(change['new'])\n",
    "start_day_select.observe(onDaySelected, 'value')"
   ]
  },
  {
   "cell_type": "code",
   "execution_count": null,
   "metadata": {
    "collapsed": true
   },
   "outputs": [],
   "source": [
    "#Create end date selector\n",
    "end_year_select = Dropdown(options=unique_year,value='---Year---',description='End Date:')\n",
    "end_month_select = Dropdown(options=['---Month---'])\n",
    "end_day_select = Dropdown(options=['---Day---'])\n",
    "\n",
    "def onYearSelected_end(change):\n",
    "    y = change['new']\n",
    "    print(y)\n",
    "    currentMonths = sorted(date_dict[y].keys())\n",
    "    currentMonths.insert(0,'---Month---')  \n",
    "    end_month_select.options = currentMonths\n",
    "end_year_select.observe(onYearSelected_end, names='value')\n",
    "def onMonthSelected_end(change):\n",
    "    m = change['new']\n",
    "    print(m)\n",
    "    currentDays = sorted(date_dict[end_year_select.value][m])\n",
    "    currentDays.insert(0,'---Day---')\n",
    "    end_day_select.options = currentDays\n",
    "end_month_select.observe(onMonthSelected_end, 'value')\n",
    "def onDaySelected_end(change):\n",
    "    print(change['new'])\n",
    "end_day_select.observe(onDaySelected_end, 'value')"
   ]
  },
  {
   "cell_type": "code",
   "execution_count": null,
   "metadata": {},
   "outputs": [],
   "source": [
    "VBox([HBox([start_year_select,start_month_select,start_day_select]),HBox([end_year_select,end_month_select,end_day_select])])"
   ]
  },
  {
   "cell_type": "code",
   "execution_count": null,
   "metadata": {},
   "outputs": [],
   "source": [
    "cap_select = Dropdown(options=['---Value---','Total Sightings','Total Duration Time'],description='Caption:')\n",
    "def onCaptionSelected(change):\n",
    "    cap = change['new']\n",
    "    print(cap)\n",
    "cap_select.observe(onCaptionSelected,'value')\n",
    "VBox([cap_select])"
   ]
  },
  {
   "cell_type": "code",
   "execution_count": null,
   "metadata": {
    "collapsed": true
   },
   "outputs": [],
   "source": [
    "import pandas as pd\n",
    "import numpy as np\n",
    "import bqplot\n",
    "import yt\n",
    "\n",
    "symbol = 'Security 1'\n",
    "symbol2 = 'Security 2'"
   ]
  },
  {
   "cell_type": "code",
   "execution_count": null,
   "metadata": {
    "collapsed": true
   },
   "outputs": [],
   "source": [
    "price_data = pd.DataFrame(np.cumsum(np.random.randn(150, 2).dot([[0.5, 0.4], [0.4, 1.0]]),\n",
    "                                    axis=0) + 100,\n",
    "                          columns=['Security 1', 'Security 2'],\n",
    "                          index=pd.date_range(start='01-01-2007', periods=150))\n",
    "\n",
    "dates_actual = price_data.index.values\n",
    "prices = price_data[symbol].values"
   ]
  },
  {
   "cell_type": "code",
   "execution_count": null,
   "metadata": {},
   "outputs": [],
   "source": [
    "price_data.loc"
   ]
  },
  {
   "cell_type": "code",
   "execution_count": null,
   "metadata": {
    "collapsed": true,
    "scrolled": false
   },
   "outputs": [],
   "source": [
    "#date_dict"
   ]
  },
  {
   "cell_type": "code",
   "execution_count": null,
   "metadata": {
    "collapsed": true
   },
   "outputs": [],
   "source": []
  }
 ],
 "metadata": {
  "kernelspec": {
   "display_name": "Python 3",
   "language": "python",
   "name": "python3"
  },
  "language_info": {
   "codemirror_mode": {
    "name": "ipython",
    "version": 3
   },
   "file_extension": ".py",
   "mimetype": "text/x-python",
   "name": "python",
   "nbconvert_exporter": "python",
   "pygments_lexer": "ipython3",
   "version": "3.6.3"
  }
 },
 "nbformat": 4,
 "nbformat_minor": 2
}
