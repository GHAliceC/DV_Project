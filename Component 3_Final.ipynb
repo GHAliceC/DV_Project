{
 "cells": [
  {
   "cell_type": "code",
   "execution_count": 1,
   "metadata": {
    "collapsed": true
   },
   "outputs": [],
   "source": [
    "import pandas as pd\n",
    "import numpy as np\n",
    "import bqplot\n",
    "import yt\n",
    "import us\n",
    "import math"
   ]
  },
  {
   "cell_type": "code",
   "execution_count": null,
   "metadata": {
    "collapsed": true
   },
   "outputs": [],
   "source": [
    "from bqplot import DateScale, LinearScale, Axis, Lines, Scatter, Bars, Hist, Figure, LogScale\n",
    "from bqplot.interacts import FastIntervalSelector\n",
    "\n",
    "from ipywidgets import VBox, HTML, Dropdown, HBox"
   ]
  },
  {
   "cell_type": "markdown",
   "metadata": {},
   "source": [
    "### 1. Read Data, set year as index, and aggregate data by year"
   ]
  },
  {
   "cell_type": "markdown",
   "metadata": {},
   "source": [
    "#### 1)Read ufo dataset, state area dataset and store as DataFrame types"
   ]
  },
  {
   "cell_type": "code",
   "execution_count": null,
   "metadata": {
    "collapsed": true
   },
   "outputs": [],
   "source": [
    "names = [\"date\", \"city\", \"state\", \"country\", \"shape\", \"duration_seconds\",\n",
    "         \"duration_reported\", \"rdescription\", \"report_date\", \"latitude\",\n",
    "         \"longitude\"]\n",
    "fn = \"/srv/nbgrader/data/ufo-scrubbed-geocoded-time-standardized.csv\"\n",
    "ufo = pd.read_csv(fn, names = names, parse_dates = [\"date\", \"report_date\"])"
   ]
  },
  {
   "cell_type": "code",
   "execution_count": null,
   "metadata": {
    "collapsed": true
   },
   "outputs": [],
   "source": [
    "state_info = pd.read_csv(\"state_info.txt\")"
   ]
  },
  {
   "cell_type": "markdown",
   "metadata": {},
   "source": [
    "#### 2)Include 'fips' into ufo dataset and aggregate state area data into ufo dataset by matching values in fips and GEOID"
   ]
  },
  {
   "cell_type": "markdown",
   "metadata": {},
   "source": [
    "* We are joining state area and fips into ufo dataset so that our normalization process would be effective and consistant."
   ]
  },
  {
   "cell_type": "code",
   "execution_count": null,
   "metadata": {
    "collapsed": true
   },
   "outputs": [],
   "source": [
    "abbr_to_fits = us.states.mapping('abbr', 'fips')\n",
    "ufo[\"fips\"] = ufo[\"state\"].apply(lambda a: int(abbr_to_fits.get(str(a).upper(), -1)))\n",
    "fips_count = ufo.groupby(\"fips\")[\"duration_seconds\"].count()\n",
    "total_time_all = ufo.groupby(\"fips\")[\"duration_seconds\"].sum()\n",
    "ufo['GEOID'] = [int(i) for i in ufo['fips']]"
   ]
  },
  {
   "cell_type": "code",
   "execution_count": null,
   "metadata": {
    "collapsed": true
   },
   "outputs": [],
   "source": [
    "ufo.set_index('GEOID')\n",
    "ufo = ufo.join(state_info.set_index('GEOID'), on='GEOID', lsuffix='org', rsuffix='new')"
   ]
  },
  {
   "cell_type": "markdown",
   "metadata": {},
   "source": [
    "#### 3)Set year as the index of ufo dataset and normalize the total sightings as well as total duration per year by states area"
   ]
  },
  {
   "cell_type": "code",
   "execution_count": null,
   "metadata": {},
   "outputs": [],
   "source": [
    "ufo['year'] = [i.year for i in ufo['date']]\n",
    "ufo.set_index('year')"
   ]
  },
  {
   "cell_type": "code",
   "execution_count": null,
   "metadata": {
    "collapsed": true
   },
   "outputs": [],
   "source": [
    "ufo['count'] = [1/i for i in ufo['Area']]\n",
    "ufo['duration_normal'] = ufo['duration_seconds']/ufo['Area']"
   ]
  },
  {
   "cell_type": "code",
   "execution_count": null,
   "metadata": {
    "collapsed": true
   },
   "outputs": [],
   "source": [
    "total_sightings = ufo.groupby(['state','year'])['count'].sum()\n",
    "total_time = ufo.groupby(['state','year'])['duration_normal'].sum()"
   ]
  },
  {
   "cell_type": "code",
   "execution_count": null,
   "metadata": {
    "collapsed": true
   },
   "outputs": [],
   "source": [
    "total_sightings_unnormal = ufo.groupby(['state','year'])['count'].count()\n",
    "total_time_unnormal = ufo.groupby(['state','year'])['duration_seconds'].sum()"
   ]
  },
  {
   "cell_type": "code",
   "execution_count": null,
   "metadata": {
    "collapsed": true
   },
   "outputs": [],
   "source": [
    "total_sightings_year = ufo.groupby('year')\n",
    "total_sightings_year = total_sightings_year['count'].count()\n",
    "total_duration_year = ufo.groupby('year')['duration_seconds'].sum()"
   ]
  },
  {
   "cell_type": "code",
   "execution_count": null,
   "metadata": {
    "collapsed": true
   },
   "outputs": [],
   "source": [
    "total_sightings_state1 = ufo.groupby('fips')['count'].sum()\n",
    "total_duration_state = ufo.groupby('fips')['duration_normal'].sum()"
   ]
  },
  {
   "cell_type": "code",
   "execution_count": null,
   "metadata": {
    "collapsed": true
   },
   "outputs": [],
   "source": [
    "total_sightings_state = {}"
   ]
  },
  {
   "cell_type": "code",
   "execution_count": null,
   "metadata": {
    "collapsed": true
   },
   "outputs": [],
   "source": [
    "for i,j in zip(total_sightings_state1,total_sightings_state1.index):\n",
    "    total_sightings_state[j] = math.log2(i)"
   ]
  },
  {
   "cell_type": "markdown",
   "metadata": {},
   "source": [
    "### 2. Create US map and plots of total sightings and total duration in the function of year"
   ]
  },
  {
   "cell_type": "code",
   "execution_count": null,
   "metadata": {
    "collapsed": true
   },
   "outputs": [],
   "source": [
    "import bqplot.pyplot as bqp"
   ]
  },
  {
   "cell_type": "code",
   "execution_count": null,
   "metadata": {
    "collapsed": true
   },
   "outputs": [],
   "source": [
    "import us\n",
    "state_selected = ''"
   ]
  },
  {
   "cell_type": "code",
   "execution_count": null,
   "metadata": {
    "collapsed": true
   },
   "outputs": [],
   "source": [
    "dt_x_fast = LinearScale()\n",
    "lin_y = LinearScale()\n",
    "log_y = LogScale()\n",
    "\n",
    "x_ax = Axis(label = 'Year', scale = dt_x_fast)\n",
    "y_ay_S = Axis(scale = lin_y, orientation = 'vertical')\n",
    "y_ay_D = Axis(scale = log_y, orientation = 'vertical')\n",
    "\n"
   ]
  },
  {
   "cell_type": "markdown",
   "metadata": {},
   "source": [
    "#### Get US map data and add id, coordinate, area properties to the dictionary"
   ]
  },
  {
   "cell_type": "code",
   "execution_count": null,
   "metadata": {
    "collapsed": true
   },
   "outputs": [],
   "source": [
    "geom_data = bqplot.topo_load('map_data/USStatesMap.json')\n",
    "#geom_data = a['objects']['subunits']['geometries']\n",
    "for i in geom_data['objects']['subunits']['geometries']:\n",
    "    for row in state_info.itertuples():\n",
    "        if i['id'] == row.GEOID:\n",
    "            i['coordinate'] = [row.INTPTLAT,row.INTPTLON]\n",
    "            i['area'] = row.Area"
   ]
  },
  {
   "cell_type": "markdown",
   "metadata": {},
   "source": [
    "#### Observe selecting function of the map, and connect the selected state to plots"
   ]
  },
  {
   "cell_type": "code",
   "execution_count": null,
   "metadata": {
    "collapsed": true
   },
   "outputs": [],
   "source": [
    "map_styles = {'scales': {'projection': bqplot.AlbersUSA(),\n",
    "                         'color': bqplot.ColorScale(colors=[\"#c7e9b4\",\"#253494\"])},\n",
    "              'color': total_sightings_state}\n",
    "map_tt = bqplot.Tooltip(fields = ['name','id'], labels = ['State','ID'])\n",
    "states_map = bqplot.Map(map_data=geom_data,#bqplot.topo_load('map_data/USStatesMap.json'),\n",
    "                        interactions = {'click':'select','hover':'tooltip'},\n",
    "                        unslected_styles = {'opacity': 0.4},\n",
    "                        **map_styles, tooltip = map_tt, display_legend = False, labels=['UFO Sightings'])\n",
    "fig_map = bqplot.Figure(marks=[states_map], fig_margin = {'top':20,'bottom':30,'left':-105,'right':0})"
   ]
  },
  {
   "cell_type": "code",
   "execution_count": null,
   "metadata": {
    "collapsed": true
   },
   "outputs": [],
   "source": [
    "def observe_selected(change):\n",
    "    ind = intsel_fast.selected\n",
    "    if states_map.selected:\n",
    "        for abbr,fips in abbr_to_fits.items():  \n",
    "            if fips:\n",
    "                if int(fips) == states_map.selected[-1]:\n",
    "                    global state_selected\n",
    "                    state_selected = abbr.lower()                  \n",
    "                    if cap_select.value == 'Total Sightings':\n",
    "                        plot_all.x = total_sightings[state_selected].index.values\n",
    "                        plot_all.y = total_sightings[state_selected][:]\n",
    "                        title.value = '<center><font size=\"+2\"><b>Normalized Total %s of UFO Sightings in %s by Year</b></font></center>'%(\n",
    "                                      sighting_text,state_selected.upper())\n",
    "                        if not ind is None:\n",
    "                            if any(ind):\n",
    "                                tot = total_sightings_unnormal[state_selected].loc[ind[0]:ind[1]].sum()\n",
    "                                db_fast.value = '<center>The selected time period: <strong>%s - %s</strong>. Total sightings: <strong>%s</strong></center>'%(\n",
    "                                                int(ind[0]),int(ind[1]),str(tot))\n",
    "                    \n",
    "                    if cap_select.value == 'Total Duration Time':\n",
    "                        plot_all.x = total_time[state_selected].index.values\n",
    "                        plot_all.y = total_time[state_selected][:]\n",
    "                        title.value = '<center><font size=\"+2\"><b>Normalized Total %s of UFO Sightings in %s by Year</b></font></center>'%(\n",
    "                                      time_text,state_selected.upper())\n",
    "                        if not ind is None:\n",
    "                            if any(ind):\n",
    "                                tot = total_time_unnormal[state_selected].loc[ind[0]:ind[1]].sum()\n",
    "                                db_fast.value = '<center>The selected time period: <strong>%s - %s</strong>. Total duration seconds: <strong>%s</strong></center>'%(\n",
    "                                                int(ind[0]),int(ind[1]),str(tot))\n",
    "    else:\n",
    "        state_selected = ''\n",
    "        if cap_select.value == 'Total Sightings':\n",
    "            plot_all.x = total_sightings_year.index.values\n",
    "            plot_all.y = total_sightings_year[:]\n",
    "            title.value = '<center><font size=\"+2\"><b>Total %s of UFO Sightings in US by Year</b></font></center>'%(sighting_text)\n",
    "        if cap_select.value == 'Total Duration Time':\n",
    "            plot_all.x = total_duration_year.index.values\n",
    "            plot_all.y = total_duration_year[:]\n",
    "            title.value = '<center><font size=\"+2\"><b>Total %s of UFO Sightings in US by Year</b></font></center>'%(time_text)\n",
    "        if not ind is None:\n",
    "            if any(ind):\n",
    "                if cap_select.value == 'Total Sightings':\n",
    "                    tot = total_sightings_year.loc[ind[0]:ind[1]].sum() \n",
    "                    db_fast.value = '<center>The selected time period: <strong>%s - %s</strong>. Total sightings: <strong>%s</strong></center>'%(\n",
    "                                    int(ind[0]),int(ind[1]),str(tot))\n",
    "                if cap_select.value == 'Total Duration Time':\n",
    "                    tot = total_duration_year.loc[ind[0]:ind[1]].sum()\n",
    "                    db_fast.value = '<center>The selected time period: <strong>%s - %s</strong>. Total duration seconds: <strong>%s</strong></center>'%(\n",
    "                                    int(ind[0]),int(ind[1]),str(tot))\n",
    "        \n",
    "states_map.observe(observe_selected, 'selected')"
   ]
  },
  {
   "cell_type": "markdown",
   "metadata": {},
   "source": [
    "#### Create plots with Time interval by year, and use callback function to return the selected interval"
   ]
  },
  {
   "cell_type": "code",
   "execution_count": null,
   "metadata": {
    "collapsed": true
   },
   "outputs": [],
   "source": [
    "plot_all = Lines(x=total_sightings_year.index.values,y=total_sightings_year[:],\n",
    "                 colors = ['orange'],scales={'x':dt_x_fast,'y':lin_y})\n",
    "\n",
    "intsel_fast = FastIntervalSelector(scale = dt_x_fast, marks = [plot_all])\n",
    "\n",
    "def fast_interval_change_callback(change):\n",
    "    ind = change.new\n",
    "    if any(ind):\n",
    "        if cap_select.value == 'Total Sightings':\n",
    "            if not states_map.selected:\n",
    "                tot = total_sightings_year.loc[ind[0]:ind[1]].sum()                \n",
    "            else:\n",
    "                tot = total_sightings_unnormal[state_selected].loc[ind[0]:ind[1]].sum()\n",
    "            db_fast.value = '<center>The selected time period: <strong>%s - %s</strong>. Total sightings: <strong>%s</strong></center>'%(\n",
    "                            int(ind[0]),int(ind[1]),str(tot))\n",
    "        if cap_select.value == 'Total Duration Time':\n",
    "            if not states_map.selected:\n",
    "                tot = total_duration_year.loc[ind[0]:ind[1]].sum()\n",
    "            else:\n",
    "                tot = total_time_unnormal[state_selected].loc[ind[0]:ind[1]].sum()\n",
    "            db_fast.value = '<center>The selected time period:<strong>%s - %s</strong>. Total duration seconds: <strong>%s</strong></center>'%(\n",
    "                            int(ind[0]),int(ind[1]),str(tot))\n",
    "intsel_fast.observe(fast_interval_change_callback,names = ['selected'])\n",
    "db_fast = HTML()\n",
    "db_fast.value = '<center>The selected time period is <strong>%s</strong></center>'%(str(intsel_fast.selected))\n",
    "\n",
    "fig_all = Figure(marks=[plot_all],axes = [x_ax, y_ay_S],interaction=intsel_fast,max_aspect_ratio=1.2)"
   ]
  },
  {
   "cell_type": "code",
   "execution_count": null,
   "metadata": {
    "collapsed": true
   },
   "outputs": [],
   "source": [
    "sighting_text = 'Number'\n",
    "time_text = 'Duration Time'\n",
    "title = HTML()\n",
    "title.value = '<center><font size=\"+2\"><b>Total %s of UFO Sightings in US by Year</b></font></center>'%(sighting_text)"
   ]
  },
  {
   "cell_type": "markdown",
   "metadata": {},
   "source": [
    "### 3. Add dropdown widget and connect US map and plots by using callback function"
   ]
  },
  {
   "cell_type": "code",
   "execution_count": null,
   "metadata": {
    "collapsed": true
   },
   "outputs": [],
   "source": [
    "cap_select = Dropdown(options=['Total Sightings','Total Duration Time'],description='Caption:')\n",
    "def onCaptionSelected(change):\n",
    "    cap = change['new']\n",
    "    #print(state_selected)\n",
    "    ind = intsel_fast.selected\n",
    "    if cap == 'Total Sightings':\n",
    "        states_map.color = total_sightings_state#fips_count.to_dict()        \n",
    "        if not states_map.selected:\n",
    "            plot_all.x = total_sightings_year.index.values\n",
    "            plot_all.y = total_sightings_year[:]\n",
    "            title.value = '<center><font size=\"+2\"><b>Total %s of UFO Sightings in US by Year</b></font></center>'%(sighting_text)\n",
    "            if not ind is None:\n",
    "                if any(ind):\n",
    "                    tot = total_sightings_year.loc[ind[0]:ind[1]].sum()\n",
    "                    db_fast.value = '<center>The selected time period: <strong>%s - %s</strong>. Total sightings: <strong>%s</strong></center>'%(\n",
    "                                    int(ind[0]),int(ind[1]),str(tot))\n",
    "            \n",
    "        else:\n",
    "            plot_all.x = total_sightings[state_selected].index.values\n",
    "            plot_all.y = total_sightings[state_selected][:]\n",
    "            title.value = '<center><font size=\"+2\"><b>Normalized Total %s of UFO Sightings in %s by Year</b></font></center>'%(\n",
    "                        sighting_text,state_selected.upper())\n",
    "            if not ind is None:\n",
    "                if any(ind):\n",
    "                    tot = total_sightings_unnormal[state_selected].loc[ind[0]:ind[1]].sum()\n",
    "                    db_fast.value = '<center>The selected time period: <strong>%s - %s</strong>. Total sightings: <strong>%s</strong></center>'%(\n",
    "                                    int(ind[0]),int(ind[1]),str(tot))\n",
    "            \n",
    "    if cap == 'Total Duration Time':\n",
    "        states_map.color = total_duration_state.to_dict()\n",
    "        title.value = '<center><font size=\"+2\"><b>Total %s of UFO Sightings in US by Year</b></font></center>'%(time_text)\n",
    "        if not states_map.selected:\n",
    "            plot_all.x = total_duration_year.index.values\n",
    "            plot_all.y = total_duration_year[:]\n",
    "            title.value = '<center><font size=\"+2\"><b>Total %s of UFO Sightings in US by Year</b></font></center>'%(time_text)\n",
    "            if not ind is None:\n",
    "                if any(ind):\n",
    "                    tot = total_duration_year.loc[ind[0]:ind[1]].sum()\n",
    "                    db_fast.value = '<center>The selected time period: <strong>%s - %s</strong>. Total duration seconds: <strong>%s</strong></center>'%(\n",
    "                                    int(ind[0]),int(ind[1]),str(tot))\n",
    "        else:\n",
    "            plot_all.x = total_time[state_selected].index.values\n",
    "            plot_all.y = total_time[state_selected][:]\n",
    "            title.value = '<center><font size=\"+2\"><b>Normalized Total %s of UFO Sightings in %s by Year</b></font></center>'%(\n",
    "                        time_text,state_selected.upper())\n",
    "            if not ind is None:\n",
    "                if any(ind):\n",
    "                    tot = total_time_unnormal[state_selected].loc[ind[0]:ind[1]].sum()\n",
    "                    db_fast.value = '<center>The selected time period: <strong>%s - %s</strong>. Total duration seconds: <strong>%s</strong></center>'%(\n",
    "                                    int(ind[0]),int(ind[1]),str(tot))\n",
    "        \n",
    "cap_select.observe(onCaptionSelected,'value') "
   ]
  },
  {
   "cell_type": "markdown",
   "metadata": {},
   "source": [
    "### 4. Embed all the widgets and figures into an H-box"
   ]
  },
  {
   "cell_type": "code",
   "execution_count": null,
   "metadata": {
    "scrolled": false
   },
   "outputs": [],
   "source": [
    "VBox([title,\n",
    "      HBox([\n",
    "          VBox([cap_select,fig_map], layout = {'width': '80%','height':'95%'}),\n",
    "          VBox([db_fast,fig_all],layout = {'width': '100%','height':'95%'})])])"
   ]
  },
  {
   "cell_type": "code",
   "execution_count": null,
   "metadata": {
    "collapsed": true
   },
   "outputs": [],
   "source": []
  }
 ],
 "metadata": {
  "kernelspec": {
   "display_name": "Python 3",
   "language": "python",
   "name": "python3"
  },
  "language_info": {
   "codemirror_mode": {
    "name": "ipython",
    "version": 3
   },
   "file_extension": ".py",
   "mimetype": "text/x-python",
   "name": "python",
   "nbconvert_exporter": "python",
   "pygments_lexer": "ipython3",
   "version": "3.6.3"
  }
 },
 "nbformat": 4,
 "nbformat_minor": 2
}
