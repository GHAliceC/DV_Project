{
 "cells": [
  {
   "cell_type": "markdown",
   "metadata": {},
   "source": [
    "# Component 1 - Transportable Array"
   ]
  },
  {
   "cell_type": "markdown",
   "metadata": {},
   "source": [
    "## Data Import, cleaning, normalization and distance calculation"
   ]
  },
  {
   "cell_type": "markdown",
   "metadata": {},
   "source": [
    "In order to arrange the transportable array in the order to make sense, we need to calculate the distance from epicenter to each individual array.  The epicenter x, y location was found in Wikipedia.  The epicenter was assigned to the same data frame as each of the array location.  The package haversine was used to calculate the distance.  This approach seems to be a very quick and effective approach to find out the distance."
   ]
  },
  {
   "cell_type": "markdown",
   "metadata": {},
   "source": [
    "The next step that we did was to normalize the data based on the data mean and standard deviation.  With the normalization, we can see the changes based on the scale based on the whole time that was recorded.  Therefore we would have the same color scale for the visualization later on."
   ]
  },
  {
   "cell_type": "markdown",
   "metadata": {},
   "source": [
    "The data was transpose and sorted by distance to fit into the spectrogram graph where the x axis represent the seconds after the earthquake and the y axis represents the stations which is sorted by their distance to the epicenter.  The strength of using this package is that it will allow us to have the same workflow in python code instead of using other GIS softwares or packages.  "
   ]
  },
  {
   "cell_type": "markdown",
   "metadata": {},
   "source": [
    "## Create graph objects\n",
    "###  Spectrogram"
   ]
  },
  {
   "cell_type": "markdown",
   "metadata": {},
   "source": [
    "In order to create a spectrogram, we used the heatmap function in the bqplot, where the x axis is the second from quake, y axis is the stations, and the color is represented by the data (which is the magnitude it is being detected given, a time and the station).  This approah fits into the overall scheme of our visualization using bqplot.  We have explored the option to matplotlib spectorgram method to create the spectrogram.  However, we could not figure out how to feed the matplotlib object and bqplot object into the ipywidgets VBox and HBox.  Therefore, we turned and used the heatmap option.\n",
    "\n",
    "The advantage of this option is that bqplot will allow us to add a vertical line and horizontal line as an indicator to the plot which add to the interactivity of the visualization.  I am not sure if this is possible in the matplotlib library.  The weakness of this is that bqplot takes sometime intially to render the heatmap object.\n",
    "\n",
    "We also made the decision to cut the data off at 4000 seconds from the initial quake.  We made that decision because we believe the first 4000 seconds adequately capture the two main waves that caused by the quake and also within the time frame that reaches the mainland United States.  "
   ]
  },
  {
   "cell_type": "markdown",
   "metadata": {},
   "source": [
    "### Base map and transportable array"
   ]
  },
  {
   "cell_type": "markdown",
   "metadata": {},
   "source": [
    "For the map and the transportable array data, we have decided to use bqplot to generate the based map and the point data. In doing this we have decided to seperate the array and the map into two seperate objects.\n",
    "\n",
    "These are the steps that we took to prepare the point data for visualization.  \n",
    "* Loaded the USStatesMap json file\n",
    "* Removed all the original geometry (states) from the json file\n",
    "* Used the code provided by the Professor to transrfrom the location coordinates\n",
    "* Transformed points was appended to the json file of the state map\n",
    "* Now that we've the points in the right coordinate system in the json file\n",
    "\n",
    "The strength of doing this is allowed us for the interactivity that will greatly enchance our visualization.  But this step took a lot of trial and error and feedbacks to accomplish.  We still haven't solved the problem of not allowing the basemap to be interactive and the zoom function of the points.  We wish to be able to stop the points from zooming in, out and pan while keeping the function of selection. "
   ]
  },
  {
   "cell_type": "markdown",
   "metadata": {},
   "source": [
    "### Wave plot"
   ]
  },
  {
   "cell_type": "markdown",
   "metadata": {},
   "source": [
    "The wave plot was created using the line object of the bqplot.  The reason for choosing this approach is because the align with the overall scheme of the visualization of using bqplot.  The style and format would be more pleasing to the user since it goes with the overall visualization.\n",
    "\n",
    "The strength of using bqplot over using other visualization techniques is that the plot object remains the same when the observed changes occur.  The graph does not have to be replotted but the data is simply modified from within.  The preformance should be better using bqplot. "
   ]
  },
  {
   "cell_type": "markdown",
   "metadata": {},
   "source": [
    "## Visualization"
   ]
  },
  {
   "cell_type": "markdown",
   "metadata": {},
   "source": [
    "In order to preserve the interactivity and allows the user to select individual transportable array on the map by clicking it, two objects are being plot of map portion of the visualization.  The based map is the original based map object.  The top layer is the transformed points data that has the same coordinate system as the U.S. base map.  They overlay on top of one another and create the map portion.  \n",
    "\n",
    "The strength of this approach is that it will make it very easy and intuitive to select the point location instead of using an drop down menu to select the station.  Given the number of stations, the list will be fairly long.  At the same time, the spatial position of station on a map gives the user a sense of what station and what area of the United States is being selected, when comparing to a list where only numbers is being presented.  The user has no way of knowing where this station is when selecting.\n",
    "\n",
    "The weakness of this approach is that there are many functions that we haven't figure out, such as the trouble of not allowing the user to zoom in and out and pan."
   ]
  },
  {
   "cell_type": "markdown",
   "metadata": {},
   "source": [
    "### Final plot object"
   ]
  },
  {
   "cell_type": "markdown",
   "metadata": {},
   "source": [
    "The three graphs are group by VBox and HBox and with margin adjusted.  The weakness of using the VBox, Hbox, and bqplot Figure object is that the margin, padding, and ratio and fairly difficult to adjust.  We have went through numerous trial and error to get some of the plot to line-up.  The matplotlib library might offer an easier time plot different graph on their canvas and make adjustment a bit easier, but that doesn't outweight the interactivity of the bqplot.\n",
    "\n",
    "Now that the visualization exist in the jupyter notebook environment.  The next step that we wish to have accomplish would be to display the visualization in a regular web environment.  The would be something to look into in the future. "
   ]
  },
  {
   "cell_type": "markdown",
   "metadata": {},
   "source": []
  },
  {
   "cell_type": "markdown",
   "metadata": {},
   "source": []
  },
  {
   "cell_type": "markdown",
   "metadata": {},
   "source": []
  },
  {
   "cell_type": "markdown",
   "metadata": {},
   "source": []
  },
  {
   "cell_type": "markdown",
   "metadata": {},
   "source": []
  }
 ],
 "metadata": {
  "kernelspec": {
   "display_name": "Python 3",
   "language": "python",
   "name": "python3"
  },
  "language_info": {
   "codemirror_mode": {
    "name": "ipython",
    "version": 3
   },
   "file_extension": ".py",
   "mimetype": "text/x-python",
   "name": "python",
   "nbconvert_exporter": "python",
   "pygments_lexer": "ipython3",
   "version": "3.6.3"
  }
 },
 "nbformat": 4,
 "nbformat_minor": 2
}
