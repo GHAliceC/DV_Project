{
 "cells": [
  {
   "cell_type": "markdown",
   "metadata": {},
   "source": [
    "# Component 1 - Transportable Array"
   ]
  },
  {
   "cell_type": "markdown",
   "metadata": {},
   "source": [
    "## Data Import, cleaning, normalization and distance calculation"
   ]
  },
  {
   "cell_type": "markdown",
   "metadata": {},
   "source": [
    "In order to arrange the transportable array in the order to make sense, we need to calculate the distance from epicenter to each individual array.  The epicenter x, y location was found in Wikipedia.  The epicenter was assigned to the same data frame as each of the array location.  The package haversine was used to calculate the distance.  This approach seems to be a very quick and effective approach to find out the distance."
   ]
  },
  {
   "cell_type": "markdown",
   "metadata": {},
   "source": [
    "The next step that we did was to normalize the data based on the data mean and standard deviation.  With the normalization, we can see the changes based on the scale based on the whole time that was recorded.  Therefore we would have the same color scale for the visualization later on."
   ]
  },
  {
   "cell_type": "markdown",
   "metadata": {},
   "source": [
    "The data was transpose and sorted by distance to fit into the spectrogram graph where the x axis represent the seconds after the earthquake and the y axis represents the stations which is sorted by their distance to the epicenter.  The strength of using this package is that it will allow us to have the same workflow in python code instead of using other GIS softwares or packages.  "
   ]
  },
  {
   "cell_type": "markdown",
   "metadata": {},
   "source": [
    "## Create graph objects\n",
    "###  Spectrogram"
   ]
  },
  {
   "cell_type": "markdown",
   "metadata": {},
   "source": [
    "In order to create a spectrogram, we used the heatmap function in the bqplot, where the x axis is the second from quake, y axis is the stations, and the color is represented by the data (which is the magnitude it is being detected given, a time and the station).  This approah fits into the overall scheme of our visualization using bqplot.  We have explored the option to matplotlib spectorgram method to create the spectrogram.  However, we could not figure out how to feed the matplotlib object and bqplot object into the ipywidgets VBox and HBox.  Therefore, we turned and used the heatmap option.\n",
    "\n",
    "The advantage of this option is that bqplot will allow us to add a vertical line and horizontal line as an indicator to the plot which add to the interactivity of the visualization.  I am not sure if this is possible in the matplotlib library.  The weakness of this is that bqplot takes sometime intially to render the heatmap object.\n",
    "\n",
    "We also made the decision to cut the data off at 4000 seconds from the initial quake.  We made that decision because we believe the first 4000 seconds adequately capture the two main waves that caused by the quake and also within the time frame that reaches the mainland United States.  "
   ]
  },
  {
   "cell_type": "markdown",
   "metadata": {},
   "source": [
    "### Base map and transportable array"
   ]
  },
  {
   "cell_type": "markdown",
   "metadata": {},
   "source": [
    "For the map and the transportable array data, we have decided to use bqplot to generate the based map and the point data. In doing this we have decided to seperate the array and the map into two seperate objects.\n",
    "\n",
    "These are the steps that we took to prepare the point data for visualization.  \n",
    "* Loaded the USStatesMap json file\n",
    "* Removed all the original geometry (states) from the json file\n",
    "* Used the code provided by the Professor to transrfrom the location coordinates\n",
    "* Transformed points was appended to the json file of the state map\n",
    "* Now that we've the points in the right coordinate system in the json file\n",
    "\n",
    "The strength of doing this is allowed us for the interactivity that will greatly enchance our visualization.  But this step took a lot of trial and error and feedbacks to accomplish.  We still haven't solved the problem of not allowing the basemap to be interactive and the zoom function of the points.  We wish to be able to stop the points from zooming in, out and pan while keeping the function of selection. "
   ]
  },
  {
   "cell_type": "markdown",
   "metadata": {},
   "source": [
    "### Wave plot"
   ]
  },
  {
   "cell_type": "markdown",
   "metadata": {},
   "source": [
    "The wave plot was created using the line object of the bqplot.  The reason for choosing this approach is because the align with the overall scheme of the visualization of using bqplot.  The style and format would be more pleasing to the user since it goes with the overall visualization.\n",
    "\n",
    "The strength of using bqplot over using other visualization techniques is that the plot object remains the same when the observed changes occur.  The graph does not have to be replotted but the data is simply modified from within.  The preformance should be better using bqplot. "
   ]
  },
  {
   "cell_type": "markdown",
   "metadata": {},
   "source": [
    "## Visualization"
   ]
  },
  {
   "cell_type": "markdown",
   "metadata": {},
   "source": [
    "In order to preserve the interactivity and allows the user to select individual transportable array on the map by clicking it, two objects are being plot of map portion of the visualization.  The based map is the original based map object.  The top layer is the transformed points data that has the same coordinate system as the U.S. base map.  They overlay on top of one another and create the map portion.  \n",
    "\n",
    "The strength of this approach is that it will make it very easy and intuitive to select the point location instead of using an drop down menu to select the station.  Given the number of stations, the list will be fairly long.  At the same time, the spatial position of station on a map gives the user a sense of what station and what area of the United States is being selected, when comparing to a list where only numbers is being presented.  The user has no way of knowing where this station is when selecting.\n",
    "\n",
    "The weakness of this approach is that there are many functions that we haven't figure out, such as the trouble of not allowing the user to zoom in and out and pan."
   ]
  },
  {
   "cell_type": "markdown",
   "metadata": {},
   "source": [
    "### Final plot object"
   ]
  },
  {
   "cell_type": "markdown",
   "metadata": {},
   "source": [
    "The three graphs are group by VBox and HBox and with margin adjusted.  The weakness of using the VBox, Hbox, and bqplot Figure object is that the margin, padding, and ratio are fairly difficult to adjust.  We have went through numerous trial and error to get some of the plot to line-up.  The matplotlib library might offer an easier time plot different graph on their canvas and make adjustment a bit easier, but that doesn't outweight the interactivity of the bqplot.\n",
    "\n",
    "Now that the visualization exist in the jupyter notebook environment.  The next step that we wish to have accomplish would be to display the visualization in a regular web environment.  The would be something to look into in the future. "
   ]
  },
  {
   "cell_type": "markdown",
   "metadata": {},
   "source": [
    "## ———————————————————————"
   ]
  },
  {
   "cell_type": "markdown",
   "metadata": {},
   "source": [
    "# Component 2"
   ]
  },
  {
   "cell_type": "markdown",
   "metadata": {},
   "source": [
    "For component 2, we have decided to make a movie of the transportable array from 0 second to 4000 seconds.  The movie to show that the different waves that move through the lower United States.  The movie is also augment by the sound of one of the station selected.  \n",
    "\n",
    "In order to make the movie, first we have created a play button for component 1 visualization.  When the button is clicked, it automatically loop through 0 second to 4000 second.  The color of the station also shows waves moving through the different stations.  \n",
    "\n",
    "To augment the time varying map, sound was also added to the movie.  IPython display sound was used to generate a sound clip that represent the frequency of a particular station.  For prepare for the sound clip, we took the following steps:\n",
    "* The video is 80 seconds because the wait time of the video between second is 0.02, 4000 * 0.02 = 80\n",
    "* The sound clip would be 80 seconds long so we partition 0-4000 second data into 80 partitions\n",
    "* The rate of sampling the sound is decided to be 7000, so we divide 7000 / 50 = 140\n",
    "* Each partition is repeated until it match the rate of the audio function\n",
    "* All the partition is then flatten to create a single array\n",
    "* The array is passed on to the Sound object to create a wav clip"
   ]
  },
  {
   "cell_type": "markdown",
   "metadata": {},
   "source": [
    "## ———————————————————————"
   ]
  },
  {
   "cell_type": "markdown",
   "metadata": {},
   "source": [
    "# Compnent 3 - UFO  database and supplemental data"
   ]
  },
  {
   "cell_type": "markdown",
   "metadata": {},
   "source": [
    "## Data import, aggregation, normalization and index setting"
   ]
  },
  {
   "cell_type": "markdown",
   "metadata": {},
   "source": [
    "We read the ufo data and state area data storing as DataFrame format. To better achieve the normalization funciton, we joined the state according to states ID which we can retrieved from abbr_to_fits dictionary. We selected states ID as index to merge state area into the original ufo dataset. In the way, our normalization process would be more effective and consistant."
   ]
  },
  {
   "cell_type": "markdown",
   "metadata": {},
   "source": [
    "After aggregating three data sources, we set 'year' as the only index of the modified ufo dataset. then calculated the toatl sightings and total duration time grouped by states, and then normalized the total sightings and total duration time by state area. In this way, we would be able to visualize the relationship between UFO sightings/duration time and state area. \n"
   ]
  },
  {
   "cell_type": "markdown",
   "metadata": {},
   "source": [
    "## Create plots and interval selector"
   ]
  },
  {
   "cell_type": "markdown",
   "metadata": {},
   "source": [
    "We defined x, y axis for plots. Since the data range varied from sightings to duration time, we set sightings as LinearScale and duration time as LogScale. For the x axis, as we group by year, we would use LinearScale for it as well."
   ]
  },
  {
   "cell_type": "markdown",
   "metadata": {},
   "source": [
    "We expected to show one plot at each time, so we desgined a function that it could modify the groupby function when new values including the selected state and plot type were passed. And then we could change the line and y scale within the same widgets. In this approach, we did not need to worry about new plots creating while the old ones still there. "
   ]
  },
  {
   "cell_type": "markdown",
   "metadata": {},
   "source": [
    "We created an interval selector by using bqplot interact package. Since we already had year as index, evey time we changed the interval, the fast_interval_change_callback function would receive two years values. With these vlues, we could retrieved these values in ufo dataset and sum up the total sightings as well as total duration times for each state. A HTML storing the information which was updated for the new selected interval year and the total sightings/duration times based on the selected period. "
   ]
  },
  {
   "cell_type": "markdown",
   "metadata": {},
   "source": [
    "One of the drawbacks of the plots is that all the data showed are normalized when we passed on a state value into the plotting function. So we losed the original total of sightings and duration time for each state in the visualization. "
   ]
  },
  {
   "cell_type": "markdown",
   "metadata": {},
   "source": [
    "## Create US Map and apply color scale"
   ]
  },
  {
   "cell_type": "markdown",
   "metadata": {},
   "source": [
    "For the map and its color scale, we decided to use bqplot to generate the map and adjusted the color scale by the normalized total sightings/duration time. We decided to use tooltip showing the state name and its GEOID when hovered over. For the select function, we made the selected state fips as global variable so that we can use it in plotting as well as text tags.\n",
    "These are the steps that we took to prepare the point data for visualization.\n",
    "\n",
    "* Loaded the USStatesMap json file\n",
    "* Removed all the original geometry (states) from the json file\n",
    "* Transformed the data to fit in color scale\n",
    "\n",
    "By applying bqplot in the generation of map can improve the interactivity of the map including showing tooltips and click-select function. However, we failed to set single selection for our map and could not get rid of zooming-in effect when we moved our mouse in the space of the map."
   ]
  },
  {
   "cell_type": "markdown",
   "metadata": {},
   "source": [
    "## Internal and external data communication "
   ]
  },
  {
   "cell_type": "markdown",
   "metadata": {},
   "source": [
    "we were not creating plots and map independently, we integrated plotting codes within those callback functions to achieve data communication internally and externally as well.\n",
    "\n",
    "The observe_selected function achieved the interaction among map and plots and dropdown list. When state selected, we stored the state's ID into a list, and every time we called the last value of the list, and passed it to groupby function for plotting. And at the same time, the title of the graph would be changed according to the state and plot type.\n",
    "\n",
    "The onCaptionSelected function achieved the interaction between interval selector and dropdown list. When plot type selected either total sightings or total duration time, the title changed and so do the html text. The amazing part of this approach is that we can visualize the total duration time and total sightings at the same time period. What we do is using if-else condition statement to judge the values get from dropdown list. And the corresponding occurence in the modified plot would be calculated aotumatically.\n"
   ]
  }
 ],
 "metadata": {
  "kernelspec": {
   "display_name": "Python 3",
   "language": "python",
   "name": "python3"
  },
  "language_info": {
   "codemirror_mode": {
    "name": "ipython",
    "version": 3
   },
   "file_extension": ".py",
   "mimetype": "text/x-python",
   "name": "python",
   "nbconvert_exporter": "python",
   "pygments_lexer": "ipython3",
   "version": "3.6.3"
  }
 },
 "nbformat": 4,
 "nbformat_minor": 2
}
